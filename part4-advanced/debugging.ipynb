{
 "cells": [
  {
   "cell_type": "code",
   "execution_count": 4,
   "id": "93e34820-0256-4928-bade-fa3b792fafa9",
   "metadata": {},
   "outputs": [
    {
     "name": "stdout",
     "output_type": "stream",
     "text": [
      "> \u001b[32m/var/folders/72/c9b3bdn92qbfp8yx0xvzzypc0000gn/T/ipykernel_74974/112186502.py\u001b[39m(\u001b[92m6\u001b[39m)\u001b[36mbad_fn\u001b[39m\u001b[34m()\u001b[39m\n",
      "\u001b[32m      4\u001b[39m     a = \u001b[32m1.0\u001b[39m\n",
      "\u001b[32m      5\u001b[39m     b = a * x\n",
      "\u001b[32m----> 6\u001b[39m     set_trace()\n",
      "\u001b[32m      7\u001b[39m     \u001b[38;5;28;01mreturn\u001b[39;00m b ** \u001b[32m2\u001b[39m\n",
      "\u001b[32m      8\u001b[39m \n",
      "\n"
     ]
    },
    {
     "name": "stdin",
     "output_type": "stream",
     "text": [
      "ipdb>  list\n"
     ]
    },
    {
     "name": "stdout",
     "output_type": "stream",
     "text": [
      "\u001b[92m      1\u001b[39m \u001b[38;5;28;01mfrom\u001b[39;00m IPython.core.debugger \u001b[38;5;28;01mimport\u001b[39;00m set_trace\n",
      "\u001b[92m      2\u001b[39m \n",
      "\u001b[92m      3\u001b[39m \u001b[38;5;28;01mdef\u001b[39;00m bad_fn(x):\n",
      "\u001b[92m      4\u001b[39m     a = \u001b[32m1.0\u001b[39m\n",
      "\u001b[92m      5\u001b[39m     b = a * x\n",
      "\u001b[32m----> 6\u001b[39m     set_trace()\n",
      "\u001b[92m      7\u001b[39m     \u001b[38;5;28;01mreturn\u001b[39;00m b ** \u001b[32m2\u001b[39m\n",
      "\u001b[92m      8\u001b[39m \n",
      "\u001b[92m      9\u001b[39m bad_fn(-\u001b[32m10\u001b[39m)\n",
      "\n"
     ]
    },
    {
     "name": "stdin",
     "output_type": "stream",
     "text": [
      "ipdb>  all\n"
     ]
    },
    {
     "name": "stdout",
     "output_type": "stream",
     "text": [
      "<built-in function all>\n"
     ]
    },
    {
     "name": "stdin",
     "output_type": "stream",
     "text": [
      "ipdb>  a\n"
     ]
    },
    {
     "name": "stdout",
     "output_type": "stream",
     "text": [
      "x = -10\n"
     ]
    },
    {
     "name": "stdin",
     "output_type": "stream",
     "text": [
      "ipdb>  n\n"
     ]
    },
    {
     "name": "stdout",
     "output_type": "stream",
     "text": [
      "> \u001b[32m/var/folders/72/c9b3bdn92qbfp8yx0xvzzypc0000gn/T/ipykernel_74974/112186502.py\u001b[39m(\u001b[92m7\u001b[39m)\u001b[36mbad_fn\u001b[39m\u001b[34m()\u001b[39m\n",
      "\u001b[32m      5\u001b[39m     b = a * x\n",
      "\u001b[32m      6\u001b[39m     set_trace()\n",
      "\u001b[32m----> 7\u001b[39m     \u001b[38;5;28;01mreturn\u001b[39;00m b ** \u001b[32m2\u001b[39m\n",
      "\u001b[32m      8\u001b[39m \n",
      "\u001b[32m      9\u001b[39m bad_fn(-\u001b[32m10\u001b[39m)\n",
      "\n"
     ]
    },
    {
     "name": "stdin",
     "output_type": "stream",
     "text": [
      "ipdb>  a\n"
     ]
    },
    {
     "name": "stdout",
     "output_type": "stream",
     "text": [
      "x = -10\n"
     ]
    },
    {
     "name": "stdin",
     "output_type": "stream",
     "text": [
      "ipdb>  c\n"
     ]
    },
    {
     "data": {
      "text/plain": [
       "100.0"
      ]
     },
     "execution_count": 4,
     "metadata": {},
     "output_type": "execute_result"
    }
   ],
   "source": [
    "from IPython.core.debugger import set_trace\n",
    "\n",
    "def bad_fn(x):\n",
    "    a = 1.0\n",
    "    b = a * x\n",
    "    set_trace()\n",
    "    return b ** 2\n",
    "\n",
    "bad_fn(-10)"
   ]
  },
  {
   "cell_type": "code",
   "execution_count": 7,
   "id": "519910d0-86e7-47b4-a3c1-0862e93f2d9a",
   "metadata": {},
   "outputs": [
    {
     "name": "stdout",
     "output_type": "stream",
     "text": [
      "Automatic pdb calling has been turned ON\n"
     ]
    },
    {
     "ename": "ZeroDivisionError",
     "evalue": "float division by zero",
     "output_type": "error",
     "traceback": [
      "\u001b[31m---------------------------------------------------------------------------\u001b[39m",
      "\u001b[31mZeroDivisionError\u001b[39m                         Traceback (most recent call last)",
      "\u001b[36mCell\u001b[39m\u001b[36m \u001b[39m\u001b[32mIn[7]\u001b[39m\u001b[32m, line 7\u001b[39m\n\u001b[32m      4\u001b[39m     b = a * x\n\u001b[32m      5\u001b[39m     \u001b[38;5;28;01mreturn\u001b[39;00m b / \u001b[32m0\u001b[39m\n\u001b[32m----> \u001b[39m\u001b[32m7\u001b[39m \u001b[43mactually_bad_fn\u001b[49m\u001b[43m(\u001b[49m\u001b[32;43m22\u001b[39;49m\u001b[43m)\u001b[49m\n",
      "\u001b[36mCell\u001b[39m\u001b[36m \u001b[39m\u001b[32mIn[7]\u001b[39m\u001b[32m, line 5\u001b[39m, in \u001b[36mactually_bad_fn\u001b[39m\u001b[34m(x)\u001b[39m\n\u001b[32m      3\u001b[39m a = \u001b[32m1.0\u001b[39m\n\u001b[32m      4\u001b[39m b = a * x\n\u001b[32m----> \u001b[39m\u001b[32m5\u001b[39m \u001b[38;5;28;01mreturn\u001b[39;00m \u001b[43mb\u001b[49m\u001b[43m \u001b[49m\u001b[43m/\u001b[49m\u001b[43m \u001b[49m\u001b[32;43m0\u001b[39;49m\n",
      "\u001b[31mZeroDivisionError\u001b[39m: float division by zero"
     ]
    },
    {
     "name": "stdout",
     "output_type": "stream",
     "text": [
      "> \u001b[32m/var/folders/72/c9b3bdn92qbfp8yx0xvzzypc0000gn/T/ipykernel_74974/767020636.py\u001b[39m(\u001b[92m5\u001b[39m)\u001b[36mactually_bad_fn\u001b[39m\u001b[34m()\u001b[39m\n",
      "\u001b[32m      3\u001b[39m     a = \u001b[32m1.0\u001b[39m\n",
      "\u001b[32m      4\u001b[39m     b = a * x\n",
      "\u001b[32m----> 5\u001b[39m     \u001b[38;5;28;01mreturn\u001b[39;00m b / \u001b[32m0\u001b[39m\n",
      "\u001b[32m      6\u001b[39m \n",
      "\u001b[32m      7\u001b[39m actually_bad_fn(\u001b[32m22\u001b[39m)\n",
      "\n"
     ]
    },
    {
     "name": "stdin",
     "output_type": "stream",
     "text": [
      "ipdb>  ll\n"
     ]
    },
    {
     "name": "stdout",
     "output_type": "stream",
     "text": [
      "\u001b[92m      2\u001b[39m \u001b[38;5;28;01mdef\u001b[39;00m actually_bad_fn(x):\n",
      "\u001b[92m      3\u001b[39m     a = \u001b[32m1.0\u001b[39m\n",
      "\u001b[92m      4\u001b[39m     b = a * x\n",
      "\u001b[32m----> 5\u001b[39m     \u001b[38;5;28;01mreturn\u001b[39;00m b / \u001b[32m0\u001b[39m\n",
      "\u001b[92m      6\u001b[39m \n",
      "\n"
     ]
    },
    {
     "name": "stdin",
     "output_type": "stream",
     "text": [
      "ipdb>  c\n"
     ]
    }
   ],
   "source": [
    "%pdb\n",
    "def actually_bad_fn(x):\n",
    "    a = 1.0\n",
    "    b = a * x\n",
    "    return b / 0\n",
    "\n",
    "actually_bad_fn(22)"
   ]
  },
  {
   "cell_type": "code",
   "execution_count": 10,
   "id": "764bfc1e-e4a3-4783-9711-31c0909615f7",
   "metadata": {},
   "outputs": [],
   "source": [
    "import numpy as np\n",
    "\n",
    "def test_expensive_call(N):\n",
    "    A = np.random.rand(N, N)\n",
    "    Ainv = np.linalg.inv(A)\n",
    "    b = np.ones(N)\n",
    "    prod = Ainv@b\n",
    "    return np.sum(prod)\n",
    "    \n",
    "    "
   ]
  },
  {
   "cell_type": "code",
   "execution_count": 15,
   "id": "3464fa3a-bdec-44c0-a647-e015ce52c7ad",
   "metadata": {},
   "outputs": [
    {
     "name": "stdout",
     "output_type": "stream",
     "text": [
      "1.54 s ± 7.91 ms per loop (mean ± std. dev. of 7 runs, 1 loop each)\n"
     ]
    }
   ],
   "source": [
    "%timeit test_expensive_call(5_000)"
   ]
  },
  {
   "cell_type": "code",
   "execution_count": 17,
   "id": "36368350-8f79-40bb-a02b-7395fc361874",
   "metadata": {},
   "outputs": [
    {
     "name": "stdout",
     "output_type": "stream",
     "text": [
      "Collecting line_profiler\n",
      "  Downloading line_profiler-5.0.0-cp313-cp313-macosx_11_0_arm64.whl.metadata (30 kB)\n",
      "Downloading line_profiler-5.0.0-cp313-cp313-macosx_11_0_arm64.whl (474 kB)\n",
      "Installing collected packages: line_profiler\n",
      "Successfully installed line_profiler-5.0.0\n"
     ]
    }
   ],
   "source": [
    "!pip3 install line_profiler"
   ]
  },
  {
   "cell_type": "code",
   "execution_count": 18,
   "id": "fc4f36e2-20b9-447b-9d85-10be5189e9fc",
   "metadata": {},
   "outputs": [],
   "source": [
    "%load_ext line_profiler"
   ]
  },
  {
   "cell_type": "code",
   "execution_count": 19,
   "id": "c5c83e65-8935-47e2-b635-d991357f7d56",
   "metadata": {},
   "outputs": [
    {
     "data": {
      "text/plain": [
       "Timer unit: 1e-09 s\n",
       "\n",
       "Total time: 1.63025 s\n",
       "File: /var/folders/72/c9b3bdn92qbfp8yx0xvzzypc0000gn/T/ipykernel_74974/594755579.py\n",
       "Function: test_expensive_call at line 3\n",
       "\n",
       "Line #      Hits         Time  Per Hit   % Time  Line Contents\n",
       "==============================================================\n",
       "     3                                           def test_expensive_call(N):\n",
       "     4         1   89011000.0  8.9e+07      5.5      A = np.random.rand(N, N)\n",
       "     5         1 1537932000.0 1.54e+09     94.3      Ainv = np.linalg.inv(A)\n",
       "     6         1      38000.0  38000.0      0.0      b = np.ones(N)\n",
       "     7         1    3224000.0 3.22e+06      0.2      prod = Ainv@b\n",
       "     8         1      46000.0  46000.0      0.0      return np.sum(prod)"
      ]
     },
     "metadata": {},
     "output_type": "display_data"
    }
   ],
   "source": [
    "%lprun -f test_expensive_call test_expensive_call(5_000)"
   ]
  },
  {
   "cell_type": "code",
   "execution_count": null,
   "id": "52fb8d3e-0029-4ffd-87e3-e76873e5c783",
   "metadata": {},
   "outputs": [],
   "source": []
  }
 ],
 "metadata": {
  "kernelspec": {
   "display_name": "Python 3 (ipykernel)",
   "language": "python",
   "name": "python3"
  },
  "language_info": {
   "codemirror_mode": {
    "name": "ipython",
    "version": 3
   },
   "file_extension": ".py",
   "mimetype": "text/x-python",
   "name": "python",
   "nbconvert_exporter": "python",
   "pygments_lexer": "ipython3",
   "version": "3.13.7"
  }
 },
 "nbformat": 4,
 "nbformat_minor": 5
}
