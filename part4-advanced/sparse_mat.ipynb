{
 "cells": [
  {
   "cell_type": "code",
   "execution_count": 6,
   "id": "4414ae3c-e268-49e9-b6e4-905e461e0863",
   "metadata": {},
   "outputs": [],
   "source": [
    "import numpy as np\n",
    "import matplotlib.pyplot as plt"
   ]
  },
  {
   "cell_type": "code",
   "execution_count": 9,
   "id": "0441ea86-113a-4169-bd35-c36efb2877ec",
   "metadata": {},
   "outputs": [
    {
     "data": {
      "text/plain": [
       "array([[0.05816391, 0.66312768, 0.22229925, 0.55490908, 0.13556212,\n",
       "        0.74706885, 0.43346475, 0.75116557, 0.7480839 , 0.01114536],\n",
       "       [0.22565989, 0.14324951, 0.51853776, 0.11475966, 0.87156246,\n",
       "        0.22029519, 0.65630686, 0.04353935, 0.91025189, 0.25396766],\n",
       "       [0.51655515, 0.53293294, 0.72804693, 0.26076981, 0.38037125,\n",
       "        0.49996647, 0.58773233, 0.83268899, 0.51677958, 0.99212674],\n",
       "       [0.95478508, 0.76439199, 0.34929964, 0.64136415, 0.38163409,\n",
       "        0.96669532, 0.24619372, 0.34028352, 0.1201537 , 0.52184622],\n",
       "       [0.03880571, 0.26919497, 0.51166175, 0.19243652, 0.27661331,\n",
       "        0.02147269, 0.95500732, 0.13853653, 0.58307342, 0.49659674],\n",
       "       [0.18693768, 0.99342746, 0.93970385, 0.71885522, 0.02860726,\n",
       "        0.36130965, 0.29138559, 0.26426006, 0.22237626, 0.5909179 ],\n",
       "       [0.65911656, 0.10826994, 0.46515053, 0.15295599, 0.15267037,\n",
       "        0.8612262 , 0.55622824, 0.89467682, 0.02324967, 0.35524969],\n",
       "       [0.48853489, 0.21851899, 0.64004112, 0.9444104 , 0.51528794,\n",
       "        0.02265266, 0.2526832 , 0.66616187, 0.82700268, 0.45794489],\n",
       "       [0.18610405, 0.56364388, 0.8435818 , 0.98111738, 0.37442281,\n",
       "        0.01929573, 0.5624223 , 0.83434936, 0.96286485, 0.10548737],\n",
       "       [0.47195139, 0.65067632, 0.34836335, 0.72220653, 0.80634583,\n",
       "        0.38617909, 0.68385955, 0.04115733, 0.78657071, 0.50926057]])"
      ]
     },
     "execution_count": 9,
     "metadata": {},
     "output_type": "execute_result"
    }
   ],
   "source": [
    "a = np.random.rand(10, 10)\n",
    "a"
   ]
  },
  {
   "cell_type": "code",
   "execution_count": 7,
   "id": "dd6b28eb-6722-444a-9c6c-1e3354cbfd01",
   "metadata": {},
   "outputs": [
    {
     "data": {
      "text/plain": [
       "<matplotlib.image.AxesImage at 0x10c797380>"
      ]
     },
     "execution_count": 7,
     "metadata": {},
     "output_type": "execute_result"
    },
    {
     "data": {
      "image/png": "[encoded data removed]",
      "text/plain": [
       "<Figure size 640x480 with 1 Axes>"
      ]
     },
     "metadata": {},
     "output_type": "display_data"
    }
   ],
   "source": [
    "plt.spy(a)"
   ]
  },
  {
   "cell_type": "code",
   "execution_count": 8,
   "id": "216199fa-9ecd-4e91-8665-dfb29f76479d",
   "metadata": {},
   "outputs": [
    {
     "data": {
      "text/plain": [
       "<matplotlib.image.AxesImage at 0x10c964910>"
      ]
     },
     "execution_count": 8,
     "metadata": {},
     "output_type": "execute_result"
    },
    {
     "data": {
      "image/png": "[encoded data removed]",
      "text/plain": [
       "<Figure size 640x480 with 1 Axes>"
      ]
     },
     "metadata": {},
     "output_type": "display_data"
    }
   ],
   "source": [
    "a[5, :] = 0.0\n",
    "plt.spy(a)"
   ]
  },
  {
   "cell_type": "code",
   "execution_count": 8,
   "id": "71626f72-ff55-4b2c-8afa-7a753cd6469e",
   "metadata": {},
   "outputs": [
    {
     "data": {
      "text/plain": [
       "<matplotlib.image.AxesImage at 0x10c964910>"
      ]
     },
     "execution_count": 8,
     "metadata": {},
     "output_type": "execute_result"
    },
    {
     "data": {
      "image/png": "[encoded data removed]",
      "text/plain": [
       "<Figure size 640x480 with 1 Axes>"
      ]
     },
     "metadata": {},
     "output_type": "display_data"
    }
   ],
   "source": [
    "a[5, :] = 0.0\n",
    "plt.spy(a)"
   ]
  },
  {
   "cell_type": "code",
   "execution_count": 10,
   "id": "d7230484-5e35-4175-9d92-87bed765930f",
   "metadata": {},
   "outputs": [
    {
     "data": {
      "text/plain": [
       "<matplotlib.image.AxesImage at 0x10c9ba5d0>"
      ]
     },
     "execution_count": 10,
     "metadata": {},
     "output_type": "execute_result"
    },
    {
     "data": {
      "image/png": "[encoded data removed]",
      "text/plain": [
       "<Figure size 640x480 with 1 Axes>"
      ]
     },
     "metadata": {},
     "output_type": "display_data"
    }
   ],
   "source": [
    "ident = np.eye(10)\n",
    "plt.spy(ident)"
   ]
  },
  {
   "cell_type": "code",
   "execution_count": 11,
   "id": "3e3c32f3-5e07-4ad2-a6a1-398b8c836184",
   "metadata": {},
   "outputs": [],
   "source": [
    "import scipy"
   ]
  },
  {
   "cell_type": "code",
   "execution_count": 12,
   "id": "9c875b9b-096d-4605-b173-36e8f387815a",
   "metadata": {},
   "outputs": [
    {
     "data": {
      "text/plain": [
       "\u001b[31mInit signature:\u001b[39m\n",
       "scipy.sparse.dia_matrix(\n",
       "    arg1,\n",
       "    shape=\u001b[38;5;28;01mNone\u001b[39;00m,\n",
       "    dtype=\u001b[38;5;28;01mNone\u001b[39;00m,\n",
       "    copy=\u001b[38;5;28;01mFalse\u001b[39;00m,\n",
       "    *,\n",
       "    maxprint=\u001b[38;5;28;01mNone\u001b[39;00m,\n",
       ")\n",
       "\u001b[31mDocstring:\u001b[39m     \n",
       "Sparse matrix with DIAgonal storage.\n",
       "\n",
       "This can be instantiated in several ways:\n",
       "    dia_matrix(D)\n",
       "        where D is a 2-D ndarray\n",
       "\n",
       "    dia_matrix(S)\n",
       "        with another sparse array or matrix S (equivalent to S.todia())\n",
       "\n",
       "    dia_matrix((M, N), [dtype])\n",
       "        to construct an empty matrix with shape (M, N),\n",
       "        dtype is optional, defaulting to dtype='d'.\n",
       "\n",
       "    dia_matrix((data, offsets), shape=(M, N))\n",
       "        where the ``data[k,:]`` stores the diagonal entries for\n",
       "        diagonal ``offsets[k]`` (See example below)\n",
       "\n",
       "Attributes\n",
       "----------\n",
       "dtype : dtype\n",
       "    Data type of the matrix\n",
       "shape : 2-tuple\n",
       "    Shape of the matrix\n",
       "ndim : int\n",
       "    Number of dimensions (this is always 2)\n",
       "nnz\n",
       "size\n",
       "data\n",
       "    DIA format data array of the matrix\n",
       "offsets\n",
       "    DIA format offset array of the matrix\n",
       "T\n",
       "\n",
       "Notes\n",
       "-----\n",
       "\n",
       "Sparse matrices can be used in arithmetic operations: they support\n",
       "addition, subtraction, multiplication, division, and matrix power.\n",
       "Sparse matrices with DIAgonal storage do not support slicing.\n",
       "\n",
       "Examples\n",
       "--------\n",
       "\n",
       ">>> import numpy as np\n",
       ">>> from scipy.sparse import dia_matrix\n",
       ">>> dia_matrix((3, 4), dtype=np.int8).toarray()\n",
       "array([[0, 0, 0, 0],\n",
       "       [0, 0, 0, 0],\n",
       "       [0, 0, 0, 0]], dtype=int8)\n",
       "\n",
       ">>> data = np.array([[1, 2, 3, 4]]).repeat(3, axis=0)\n",
       ">>> offsets = np.array([0, -1, 2])\n",
       ">>> dia_matrix((data, offsets), shape=(4, 4)).toarray()\n",
       "array([[1, 0, 3, 0],\n",
       "       [1, 2, 0, 4],\n",
       "       [0, 2, 3, 0],\n",
       "       [0, 0, 3, 4]])\n",
       "\n",
       ">>> from scipy.sparse import dia_matrix\n",
       ">>> n = 10\n",
       ">>> ex = np.ones(n)\n",
       ">>> data = np.array([ex, 2 * ex, ex])\n",
       ">>> offsets = np.array([-1, 0, 1])\n",
       ">>> dia_matrix((data, offsets), shape=(n, n)).toarray()\n",
       "array([[2., 1., 0., ..., 0., 0., 0.],\n",
       "       [1., 2., 1., ..., 0., 0., 0.],\n",
       "       [0., 1., 2., ..., 0., 0., 0.],\n",
       "       ...,\n",
       "       [0., 0., 0., ..., 2., 1., 0.],\n",
       "       [0., 0., 0., ..., 1., 2., 1.],\n",
       "       [0., 0., 0., ..., 0., 1., 2.]])\n",
       "\u001b[31mFile:\u001b[39m           /Library/Frameworks/Python.framework/Versions/3.13/lib/python3.13/site-packages/scipy/sparse/_dia.py\n",
       "\u001b[31mType:\u001b[39m           ABCMeta\n",
       "\u001b[31mSubclasses:\u001b[39m     "
      ]
     },
     "metadata": {},
     "output_type": "display_data"
    }
   ],
   "source": [
    "scipy.sparse.dia_matrix?"
   ]
  },
  {
   "cell_type": "code",
   "execution_count": 13,
   "id": "551305af-71e6-45da-8fcb-0f1d1bc03e67",
   "metadata": {},
   "outputs": [],
   "source": [
    "diag = 2 * np.ones(10)"
   ]
  },
  {
   "cell_type": "code",
   "execution_count": 14,
   "id": "c6376524-0e7a-4e34-bd54-c2c6b6003707",
   "metadata": {},
   "outputs": [
    {
     "data": {
      "text/plain": [
       "array([2., 2., 2., 2., 2., 2., 2., 2., 2., 2.])"
      ]
     },
     "execution_count": 14,
     "metadata": {},
     "output_type": "execute_result"
    }
   ],
   "source": [
    "diag"
   ]
  },
  {
   "cell_type": "code",
   "execution_count": 15,
   "id": "61374687-c94b-43b3-ad3e-eb67d3d58e18",
   "metadata": {},
   "outputs": [],
   "source": [
    "offdiag = -1 * np.ones(10)"
   ]
  },
  {
   "cell_type": "code",
   "execution_count": 16,
   "id": "634ad579-f19f-47b4-a415-5d4f2d10ea3b",
   "metadata": {},
   "outputs": [
    {
     "data": {
      "text/plain": [
       "array([-1., -1., -1., -1., -1., -1., -1., -1., -1., -1.])"
      ]
     },
     "execution_count": 16,
     "metadata": {},
     "output_type": "execute_result"
    }
   ],
   "source": [
    "offdiag"
   ]
  },
  {
   "cell_type": "code",
   "execution_count": 17,
   "id": "dcad717d-1aec-4b86-a2e5-04dd093183c9",
   "metadata": {},
   "outputs": [],
   "source": [
    "data = np.vstack([diag, offdiag, offdiag])"
   ]
  },
  {
   "cell_type": "code",
   "execution_count": 18,
   "id": "9546e528-f9ba-4bbb-89e0-dcf4a789f1de",
   "metadata": {},
   "outputs": [
    {
     "data": {
      "text/plain": [
       "array([[ 2.,  2.,  2.,  2.,  2.,  2.,  2.,  2.,  2.,  2.],\n",
       "       [-1., -1., -1., -1., -1., -1., -1., -1., -1., -1.],\n",
       "       [-1., -1., -1., -1., -1., -1., -1., -1., -1., -1.]])"
      ]
     },
     "execution_count": 18,
     "metadata": {},
     "output_type": "execute_result"
    }
   ],
   "source": [
    "data"
   ]
  },
  {
   "cell_type": "code",
   "execution_count": 19,
   "id": "6b053c5b-c8b5-48a8-acdd-f9b195ee94d7",
   "metadata": {},
   "outputs": [],
   "source": [
    "offsets = [0, 1, -1]"
   ]
  },
  {
   "cell_type": "code",
   "execution_count": 22,
   "id": "587402a3-8c66-4448-9a5d-e30fd94e8c8b",
   "metadata": {},
   "outputs": [],
   "source": [
    "A_diag = scipy.sparse.dia_matrix((data, offsets), shape=(10, 10))"
   ]
  },
  {
   "cell_type": "code",
   "execution_count": 24,
   "id": "d6028206-0a0f-46ff-aaf2-7667c8d00c3f",
   "metadata": {},
   "outputs": [
    {
     "name": "stdout",
     "output_type": "stream",
     "text": [
      "<DIAgonal sparse matrix of dtype 'float64'\n",
      "\twith 28 stored elements (3 diagonals) and shape (10, 10)>\n",
      "  Coords\tValues\n",
      "  (0, 0)\t2.0\n",
      "  (1, 1)\t2.0\n",
      "  (2, 2)\t2.0\n",
      "  (3, 3)\t2.0\n",
      "  (4, 4)\t2.0\n",
      "  (5, 5)\t2.0\n",
      "  (6, 6)\t2.0\n",
      "  (7, 7)\t2.0\n",
      "  (8, 8)\t2.0\n",
      "  (9, 9)\t2.0\n",
      "  (0, 1)\t-1.0\n",
      "  (1, 2)\t-1.0\n",
      "  (2, 3)\t-1.0\n",
      "  (3, 4)\t-1.0\n",
      "  (4, 5)\t-1.0\n",
      "  (5, 6)\t-1.0\n",
      "  (6, 7)\t-1.0\n",
      "  (7, 8)\t-1.0\n",
      "  (8, 9)\t-1.0\n",
      "  (1, 0)\t-1.0\n",
      "  (2, 1)\t-1.0\n",
      "  (3, 2)\t-1.0\n",
      "  (4, 3)\t-1.0\n",
      "  (5, 4)\t-1.0\n",
      "  (6, 5)\t-1.0\n",
      "  (7, 6)\t-1.0\n",
      "  (8, 7)\t-1.0\n",
      "  (9, 8)\t-1.0\n"
     ]
    }
   ],
   "source": [
    "print(A_diag)"
   ]
  },
  {
   "cell_type": "code",
   "execution_count": 25,
   "id": "4b7a197f-3b73-4a42-94eb-d9ea48ea181b",
   "metadata": {},
   "outputs": [
    {
     "data": {
      "text/plain": [
       "<matplotlib.lines.Line2D at 0x10f8d6e90>"
      ]
     },
     "execution_count": 25,
     "metadata": {},
     "output_type": "execute_result"
    },
    {
     "data": {
      "image/png": "[encoded data removed]",
      "text/plain": [
       "<Figure size 640x480 with 1 Axes>"
      ]
     },
     "metadata": {},
     "output_type": "display_data"
    }
   ],
   "source": [
    "plt.spy(A_diag)"
   ]
  },
  {
   "cell_type": "code",
   "execution_count": 26,
   "id": "94f49ce0-e2ff-481c-b598-fe13e98d3e5c",
   "metadata": {},
   "outputs": [
    {
     "data": {
      "text/plain": [
       "matrix([[ 2., -1.,  0.,  0.,  0.,  0.,  0.,  0.,  0.,  0.],\n",
       "        [-1.,  2., -1.,  0.,  0.,  0.,  0.,  0.,  0.,  0.],\n",
       "        [ 0., -1.,  2., -1.,  0.,  0.,  0.,  0.,  0.,  0.],\n",
       "        [ 0.,  0., -1.,  2., -1.,  0.,  0.,  0.,  0.,  0.],\n",
       "        [ 0.,  0.,  0., -1.,  2., -1.,  0.,  0.,  0.,  0.],\n",
       "        [ 0.,  0.,  0.,  0., -1.,  2., -1.,  0.,  0.,  0.],\n",
       "        [ 0.,  0.,  0.,  0.,  0., -1.,  2., -1.,  0.,  0.],\n",
       "        [ 0.,  0.,  0.,  0.,  0.,  0., -1.,  2., -1.,  0.],\n",
       "        [ 0.,  0.,  0.,  0.,  0.,  0.,  0., -1.,  2., -1.],\n",
       "        [ 0.,  0.,  0.,  0.,  0.,  0.,  0.,  0., -1.,  2.]])"
      ]
     },
     "execution_count": 26,
     "metadata": {},
     "output_type": "execute_result"
    }
   ],
   "source": [
    "A_diag.todense()"
   ]
  },
  {
   "cell_type": "code",
   "execution_count": 27,
   "id": "7a1cc7e2-e677-4f32-b402-ef96ad0febeb",
   "metadata": {},
   "outputs": [
    {
     "data": {
      "text/plain": [
       "\u001b[31mInit signature:\u001b[39m\n",
       "scipy.sparse.coo_matrix(\n",
       "    arg1,\n",
       "    shape=\u001b[38;5;28;01mNone\u001b[39;00m,\n",
       "    dtype=\u001b[38;5;28;01mNone\u001b[39;00m,\n",
       "    copy=\u001b[38;5;28;01mFalse\u001b[39;00m,\n",
       "    *,\n",
       "    maxprint=\u001b[38;5;28;01mNone\u001b[39;00m,\n",
       ")\n",
       "\u001b[31mDocstring:\u001b[39m     \n",
       "A sparse matrix in COOrdinate format.\n",
       "\n",
       "Also known as the 'ijv' or 'triplet' format.\n",
       "\n",
       "This can be instantiated in several ways:\n",
       "    coo_matrix(D)\n",
       "        where D is a 2-D ndarray\n",
       "\n",
       "    coo_matrix(S)\n",
       "        with another sparse array or matrix S (equivalent to S.tocoo())\n",
       "\n",
       "    coo_matrix((M, N), [dtype])\n",
       "        to construct an empty matrix with shape (M, N)\n",
       "        dtype is optional, defaulting to dtype='d'.\n",
       "\n",
       "    coo_matrix((data, (i, j)), [shape=(M, N)])\n",
       "        to construct from three arrays:\n",
       "            1. data[:]   the entries of the matrix, in any order\n",
       "            2. i[:]      the row indices of the matrix entries\n",
       "            3. j[:]      the column indices of the matrix entries\n",
       "\n",
       "        Where ``A[i[k], j[k]] = data[k]``.  When shape is not\n",
       "        specified, it is inferred from the index arrays\n",
       "\n",
       "Attributes\n",
       "----------\n",
       "dtype : dtype\n",
       "    Data type of the matrix\n",
       "shape : 2-tuple\n",
       "    Shape of the matrix\n",
       "ndim : int\n",
       "    Number of dimensions (this is always 2)\n",
       "nnz\n",
       "size\n",
       "data\n",
       "    COO format data array of the matrix\n",
       "row\n",
       "    COO format row index array of the matrix\n",
       "col\n",
       "    COO format column index array of the matrix\n",
       "has_canonical_format : bool\n",
       "    Whether the matrix has sorted indices and no duplicates\n",
       "format\n",
       "T\n",
       "\n",
       "Notes\n",
       "-----\n",
       "\n",
       "Sparse matrices can be used in arithmetic operations: they support\n",
       "addition, subtraction, multiplication, division, and matrix power.\n",
       "\n",
       "Advantages of the COO format\n",
       "    - facilitates fast conversion among sparse formats\n",
       "    - permits duplicate entries (see example)\n",
       "    - very fast conversion to and from CSR/CSC formats\n",
       "\n",
       "Disadvantages of the COO format\n",
       "    - does not directly support:\n",
       "        + arithmetic operations\n",
       "        + slicing\n",
       "\n",
       "Intended Usage\n",
       "    - COO is a fast format for constructing sparse matrices\n",
       "    - Once a COO matrix has been constructed, convert to CSR or\n",
       "      CSC format for fast arithmetic and matrix vector operations\n",
       "    - By default when converting to CSR or CSC format, duplicate (i,j)\n",
       "      entries will be summed together.  This facilitates efficient\n",
       "      construction of finite element matrices and the like. (see example)\n",
       "\n",
       "Canonical format\n",
       "    - Entries and coordinates sorted by row, then column.\n",
       "    - There are no duplicate entries (i.e. duplicate (i,j) locations)\n",
       "    - Data arrays MAY have explicit zeros.\n",
       "\n",
       "Examples\n",
       "--------\n",
       "\n",
       ">>> # Constructing an empty matrix\n",
       ">>> import numpy as np\n",
       ">>> from scipy.sparse import coo_matrix\n",
       ">>> coo_matrix((3, 4), dtype=np.int8).toarray()\n",
       "array([[0, 0, 0, 0],\n",
       "       [0, 0, 0, 0],\n",
       "       [0, 0, 0, 0]], dtype=int8)\n",
       "\n",
       ">>> # Constructing a matrix using ijv format\n",
       ">>> row  = np.array([0, 3, 1, 0])\n",
       ">>> col  = np.array([0, 3, 1, 2])\n",
       ">>> data = np.array([4, 5, 7, 9])\n",
       ">>> coo_matrix((data, (row, col)), shape=(4, 4)).toarray()\n",
       "array([[4, 0, 9, 0],\n",
       "       [0, 7, 0, 0],\n",
       "       [0, 0, 0, 0],\n",
       "       [0, 0, 0, 5]])\n",
       "\n",
       ">>> # Constructing a matrix with duplicate coordinates\n",
       ">>> row  = np.array([0, 0, 1, 3, 1, 0, 0])\n",
       ">>> col  = np.array([0, 2, 1, 3, 1, 0, 0])\n",
       ">>> data = np.array([1, 1, 1, 1, 1, 1, 1])\n",
       ">>> coo = coo_matrix((data, (row, col)), shape=(4, 4))\n",
       ">>> # Duplicate coordinates are maintained until implicitly or explicitly summed\n",
       ">>> np.max(coo.data)\n",
       "1\n",
       ">>> coo.toarray()\n",
       "array([[3, 0, 1, 0],\n",
       "       [0, 2, 0, 0],\n",
       "       [0, 0, 0, 0],\n",
       "       [0, 0, 0, 1]])\n",
       "\u001b[31mFile:\u001b[39m           /Library/Frameworks/Python.framework/Versions/3.13/lib/python3.13/site-packages/scipy/sparse/_coo.py\n",
       "\u001b[31mType:\u001b[39m           ABCMeta\n",
       "\u001b[31mSubclasses:\u001b[39m     "
      ]
     },
     "metadata": {},
     "output_type": "display_data"
    }
   ],
   "source": [
    "scipy.sparse.coo_matrix?"
   ]
  },
  {
   "cell_type": "code",
   "execution_count": 32,
   "id": "6329a3d2-1139-41db-9842-42abf41ebbba",
   "metadata": {},
   "outputs": [],
   "source": [
    "rows = np.array([0, 1, 2, 3, 0, 0])\n",
    "cols = np.array([0, 1, 2, 3, 3, 3])\n",
    "data = np.array([2.0, 2.0, 2.0, 2.0, 7.0, 3.0])\n",
    "\n",
    "A_coo = scipy.sparse.coo_matrix((data, (rows, cols)))"
   ]
  },
  {
   "cell_type": "code",
   "execution_count": 33,
   "id": "f2a5d393-5045-4fdc-b28e-8767d0558c91",
   "metadata": {},
   "outputs": [
    {
     "data": {
      "text/plain": [
       "matrix([[ 2.,  0.,  0., 10.],\n",
       "        [ 0.,  2.,  0.,  0.],\n",
       "        [ 0.,  0.,  2.,  0.],\n",
       "        [ 0.,  0.,  0.,  2.]])"
      ]
     },
     "execution_count": 33,
     "metadata": {},
     "output_type": "execute_result"
    }
   ],
   "source": [
    "A_coo.todense()"
   ]
  },
  {
   "cell_type": "code",
   "execution_count": 34,
   "id": "0d3d7fe6-5240-4521-96a9-99410213cbd9",
   "metadata": {},
   "outputs": [
    {
     "data": {
      "text/plain": [
       "\u001b[31mInit signature:\u001b[39m\n",
       "scipy.sparse.csr_matrix(\n",
       "    arg1,\n",
       "    shape=\u001b[38;5;28;01mNone\u001b[39;00m,\n",
       "    dtype=\u001b[38;5;28;01mNone\u001b[39;00m,\n",
       "    copy=\u001b[38;5;28;01mFalse\u001b[39;00m,\n",
       "    *,\n",
       "    maxprint=\u001b[38;5;28;01mNone\u001b[39;00m,\n",
       ")\n",
       "\u001b[31mDocstring:\u001b[39m     \n",
       "Compressed Sparse Row matrix.\n",
       "\n",
       "This can be instantiated in several ways:\n",
       "    csr_matrix(D)\n",
       "        where D is a 2-D ndarray\n",
       "\n",
       "    csr_matrix(S)\n",
       "        with another sparse array or matrix S (equivalent to S.tocsr())\n",
       "\n",
       "    csr_matrix((M, N), [dtype])\n",
       "        to construct an empty matrix with shape (M, N)\n",
       "        dtype is optional, defaulting to dtype='d'.\n",
       "\n",
       "    csr_matrix((data, (row_ind, col_ind)), [shape=(M, N)])\n",
       "        where ``data``, ``row_ind`` and ``col_ind`` satisfy the\n",
       "        relationship ``a[row_ind[k], col_ind[k]] = data[k]``.\n",
       "\n",
       "    csr_matrix((data, indices, indptr), [shape=(M, N)])\n",
       "        is the standard CSR representation where the column indices for\n",
       "        row i are stored in ``indices[indptr[i]:indptr[i+1]]`` and their\n",
       "        corresponding values are stored in ``data[indptr[i]:indptr[i+1]]``.\n",
       "        If the shape parameter is not supplied, the matrix dimensions\n",
       "        are inferred from the index arrays.\n",
       "\n",
       "Attributes\n",
       "----------\n",
       "dtype : dtype\n",
       "    Data type of the matrix\n",
       "shape : 2-tuple\n",
       "    Shape of the matrix\n",
       "ndim : int\n",
       "    Number of dimensions (this is always 2)\n",
       "nnz\n",
       "size\n",
       "data\n",
       "    CSR format data array of the matrix\n",
       "indices\n",
       "    CSR format index array of the matrix\n",
       "indptr\n",
       "    CSR format index pointer array of the matrix\n",
       "has_sorted_indices\n",
       "has_canonical_format\n",
       "T\n",
       "\n",
       "Notes\n",
       "-----\n",
       "\n",
       "Sparse matrices can be used in arithmetic operations: they support\n",
       "addition, subtraction, multiplication, division, and matrix power.\n",
       "\n",
       "Advantages of the CSR format\n",
       "  - efficient arithmetic operations CSR + CSR, CSR * CSR, etc.\n",
       "  - efficient row slicing\n",
       "  - fast matrix vector products\n",
       "\n",
       "Disadvantages of the CSR format\n",
       "  - slow column slicing operations (consider CSC)\n",
       "  - changes to the sparsity structure are expensive (consider LIL or DOK)\n",
       "\n",
       "Canonical Format\n",
       "    - Within each row, indices are sorted by column.\n",
       "    - There are no duplicate entries.\n",
       "\n",
       "Examples\n",
       "--------\n",
       "\n",
       ">>> import numpy as np\n",
       ">>> from scipy.sparse import csr_matrix\n",
       ">>> csr_matrix((3, 4), dtype=np.int8).toarray()\n",
       "array([[0, 0, 0, 0],\n",
       "       [0, 0, 0, 0],\n",
       "       [0, 0, 0, 0]], dtype=int8)\n",
       "\n",
       ">>> row = np.array([0, 0, 1, 2, 2, 2])\n",
       ">>> col = np.array([0, 2, 2, 0, 1, 2])\n",
       ">>> data = np.array([1, 2, 3, 4, 5, 6])\n",
       ">>> csr_matrix((data, (row, col)), shape=(3, 3)).toarray()\n",
       "array([[1, 0, 2],\n",
       "       [0, 0, 3],\n",
       "       [4, 5, 6]])\n",
       "\n",
       ">>> indptr = np.array([0, 2, 3, 6])\n",
       ">>> indices = np.array([0, 2, 2, 0, 1, 2])\n",
       ">>> data = np.array([1, 2, 3, 4, 5, 6])\n",
       ">>> csr_matrix((data, indices, indptr), shape=(3, 3)).toarray()\n",
       "array([[1, 0, 2],\n",
       "       [0, 0, 3],\n",
       "       [4, 5, 6]])\n",
       "\n",
       "Duplicate entries are summed together:\n",
       "\n",
       ">>> row = np.array([0, 1, 2, 0])\n",
       ">>> col = np.array([0, 1, 1, 0])\n",
       ">>> data = np.array([1, 2, 4, 8])\n",
       ">>> csr_matrix((data, (row, col)), shape=(3, 3)).toarray()\n",
       "array([[9, 0, 0],\n",
       "       [0, 2, 0],\n",
       "       [0, 4, 0]])\n",
       "\n",
       "As an example of how to construct a CSR matrix incrementally,\n",
       "the following snippet builds a term-document matrix from texts:\n",
       "\n",
       ">>> docs = [[\"hello\", \"world\", \"hello\"], [\"goodbye\", \"cruel\", \"world\"]]\n",
       ">>> indptr = [0]\n",
       ">>> indices = []\n",
       ">>> data = []\n",
       ">>> vocabulary = {}\n",
       ">>> for d in docs:\n",
       "...     for term in d:\n",
       "...         index = vocabulary.setdefault(term, len(vocabulary))\n",
       "...         indices.append(index)\n",
       "...         data.append(1)\n",
       "...     indptr.append(len(indices))\n",
       "...\n",
       ">>> csr_matrix((data, indices, indptr), dtype=int).toarray()\n",
       "array([[2, 1, 0, 0],\n",
       "       [0, 1, 1, 1]])\n",
       "\u001b[31mFile:\u001b[39m           /Library/Frameworks/Python.framework/Versions/3.13/lib/python3.13/site-packages/scipy/sparse/_csr.py\n",
       "\u001b[31mType:\u001b[39m           ABCMeta\n",
       "\u001b[31mSubclasses:\u001b[39m     "
      ]
     },
     "metadata": {},
     "output_type": "display_data"
    }
   ],
   "source": [
    "scipy.sparse.csr_matrix?"
   ]
  },
  {
   "cell_type": "code",
   "execution_count": 38,
   "id": "6519ea59-13a9-484d-bf77-c04b66d71536",
   "metadata": {},
   "outputs": [],
   "source": [
    "data = np.array([2.0, 10.0, 2.0, 2.0, 2.0])\n",
    "indptr = np.array([0, 2, 3, 4, 5])\n",
    "indices = np.array([0, 3, 1, 2, 3])\n",
    "\n",
    "A_csr = scipy.sparse.csr_matrix((data, indices, indptr))"
   ]
  },
  {
   "cell_type": "code",
   "execution_count": 39,
   "id": "c6300489-87bb-44e3-8755-83ea404be1d0",
   "metadata": {},
   "outputs": [
    {
     "data": {
      "text/plain": [
       "matrix([[ 2.,  0.,  0., 10.],\n",
       "        [ 0.,  2.,  0.,  0.],\n",
       "        [ 0.,  0.,  2.,  0.],\n",
       "        [ 0.,  0.,  0.,  2.]])"
      ]
     },
     "execution_count": 39,
     "metadata": {},
     "output_type": "execute_result"
    }
   ],
   "source": [
    "A_csr.todense()"
   ]
  },
  {
   "cell_type": "code",
   "execution_count": 40,
   "id": "b7144696-107d-4da2-9c7a-2a5d255797b8",
   "metadata": {},
   "outputs": [],
   "source": [
    "A = np.array([[1, 10, 0, 1],\n",
    "              [0, 0, 0, 1],\n",
    "              [5, 0, 0, 0]])"
   ]
  },
  {
   "cell_type": "code",
   "execution_count": 41,
   "id": "260790a1-4759-418c-9e30-261d351d1ff8",
   "metadata": {},
   "outputs": [
    {
     "data": {
      "text/plain": [
       "array([[ 1, 10,  0,  1],\n",
       "       [ 0,  0,  0,  1],\n",
       "       [ 5,  0,  0,  0]])"
      ]
     },
     "execution_count": 41,
     "metadata": {},
     "output_type": "execute_result"
    }
   ],
   "source": [
    "A"
   ]
  },
  {
   "cell_type": "code",
   "execution_count": 42,
   "id": "441422ba-3c6f-4d22-9730-a0871c7c4199",
   "metadata": {},
   "outputs": [],
   "source": [
    "data = np.array([1, 10, 1, 1, 5])\n",
    "indices = np.array([0, 1, 3, 3, 0])\n",
    "indptr = np.array([0, 3, 4, 5])\n",
    "\n",
    "A_csr = scipy.sparse.csr_matrix((data, indices, indptr))"
   ]
  },
  {
   "cell_type": "code",
   "execution_count": 43,
   "id": "ed3b9060-06c5-46e2-ab6c-1dbaef311577",
   "metadata": {},
   "outputs": [
    {
     "data": {
      "text/plain": [
       "matrix([[ 1, 10,  0,  1],\n",
       "        [ 0,  0,  0,  1],\n",
       "        [ 5,  0,  0,  0]])"
      ]
     },
     "execution_count": 43,
     "metadata": {},
     "output_type": "execute_result"
    }
   ],
   "source": [
    "A_csr.todense()"
   ]
  },
  {
   "cell_type": "code",
   "execution_count": 44,
   "id": "63ca2e52-fabc-4aeb-bdee-0a6956b2e4e0",
   "metadata": {},
   "outputs": [
    {
     "ename": "ZeroDivisionError",
     "evalue": "division by zero",
     "output_type": "error",
     "traceback": [
      "\u001b[31m---------------------------------------------------------------------------\u001b[39m",
      "\u001b[31mZeroDivisionError\u001b[39m                         Traceback (most recent call last)",
      "\u001b[36mCell\u001b[39m\u001b[36m \u001b[39m\u001b[32mIn[44]\u001b[39m\u001b[32m, line 1\u001b[39m\n\u001b[32m----> \u001b[39m\u001b[32m1\u001b[39m \u001b[32;43m1\u001b[39;49m\u001b[43m/\u001b[49m\u001b[32;43m0\u001b[39;49m\n",
      "\u001b[31mZeroDivisionError\u001b[39m: division by zero"
     ]
    }
   ],
   "source": [
    "1/0"
   ]
  },
  {
   "cell_type": "code",
   "execution_count": null,
   "id": "7049e41c-08b2-4cf2-9568-d334ee743130",
   "metadata": {},
   "outputs": [],
   "source": []
  }
 ],
 "metadata": {
  "kernelspec": {
   "display_name": "Python 3 (ipykernel)",
   "language": "python",
   "name": "python3"
  },
  "language_info": {
   "codemirror_mode": {
    "name": "ipython",
    "version": 3
   },
   "file_extension": ".py",
   "mimetype": "text/x-python",
   "name": "python",
   "nbconvert_exporter": "python",
   "pygments_lexer": "ipython3",
   "version": "3.13.7"
  }
 },
 "nbformat": 4,
 "nbformat_minor": 5
}
