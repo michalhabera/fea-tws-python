{
 "cells": [
  {
   "cell_type": "markdown",
   "id": "a6c04cf8-d208-4663-b536-0df933dbde8d",
   "metadata": {},
   "source": [
    "## Exercise 1-2\n",
    "\n",
    "Compute few decimals of $\\pi$ using the Wallis formula\n",
    "$$ \\pi = 2 \\prod_{n=1}^\\infty \\frac{4n^2}{4n^2 - 1} = 2 \\left( \\frac{4 \\cdot 1^2}{4 \\cdot 1^2 - 1} \\right) \\left( \\frac{4 \\cdot 2^2}{4 \\cdot 2^2 - 1} \\right) \\left( \\frac{4 \\cdot 3^2}{4 \\cdot 3^2 - 1} \\right) \\ldots$$"
   ]
  },
  {
   "cell_type": "code",
   "execution_count": 1,
   "id": "1fa07643-2a68-45a8-a544-1c67af91bab1",
   "metadata": {},
   "outputs": [
    {
     "name": "stdout",
     "output_type": "stream",
     "text": [
      "Wallis approx. to pi using 1000000 terms: 3.141591868192149\n"
     ]
    }
   ],
   "source": [
    "N = 1000000\n",
    "pi = 1.0\n",
    "for n in range(1, N+1):\n",
    "    pi = pi*(4*n**2 / (4*n**2 - 1))\n",
    "pi = 2 * pi\n",
    "print(f\"Wallis approx. to pi using {N} terms: {pi}\")"
   ]
  }
 ],
 "metadata": {
  "kernelspec": {
   "display_name": "Python 3 (ipykernel)",
   "language": "python",
   "name": "python3"
  },
  "language_info": {
   "codemirror_mode": {
    "name": "ipython",
    "version": 3
   },
   "file_extension": ".py",
   "mimetype": "text/x-python",
   "name": "python",
   "nbconvert_exporter": "python",
   "pygments_lexer": "ipython3",
   "version": "3.13.7"
  }
 },
 "nbformat": 4,
 "nbformat_minor": 5
}
