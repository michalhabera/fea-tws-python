{
 "cells": [
  {
   "cell_type": "markdown",
   "id": "a6c04cf8-d208-4663-b536-0df933dbde8d",
   "metadata": {},
   "source": [
    "## Exercise 1-2\n",
    "\n",
    "Compute few decimals of $\\pi$ using the Wallis formula\n",
    "$$ \\pi = 2 \\prod_{n=1}^\\infty \\frac{4n^2}{4n^2 - 1}.$$"
   ]
  },
  {
   "cell_type": "code",
   "execution_count": null,
   "id": "87f95bb9-4701-4aa9-a4b5-144e7c5043db",
   "metadata": {},
   "outputs": [],
   "source": []
  }
 ],
 "metadata": {
  "kernelspec": {
   "display_name": "Python 3 (ipykernel)",
   "language": "python",
   "name": "python3"
  },
  "language_info": {
   "codemirror_mode": {
    "name": "ipython",
    "version": 3
   },
   "file_extension": ".py",
   "mimetype": "text/x-python",
   "name": "python",
   "nbconvert_exporter": "python",
   "pygments_lexer": "ipython3",
   "version": "3.13.2"
  }
 },
 "nbformat": 4,
 "nbformat_minor": 5
}
