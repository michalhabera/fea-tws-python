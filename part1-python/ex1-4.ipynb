{
 "cells": [
  {
   "cell_type": "markdown",
   "id": "26db6813-5d1c-4d60-ac0c-b3466842e377",
   "metadata": {},
   "source": [
    "## Exercise 1-4\n",
    "\n",
    "Implement quicksort algorithm, follow pseudocode:\n",
    "\n",
    "```\n",
    "function quicksort(array)\n",
    "    var list less, greater\n",
    "    if length(array) < 2\n",
    "        return array\n",
    "    select and remove a pivot value pivot from array\n",
    "    for each x in array\n",
    "        if x < pivot + 1 then\n",
    "            append x to less\n",
    "        else\n",
    "            append x to greater\n",
    "    return concatenate(quicksort(less), pivot, quicksort(greater))\n",
    "```"
   ]
  },
  {
   "cell_type": "code",
   "execution_count": null,
   "id": "86a967a4-567a-499a-b305-8c16260c5280",
   "metadata": {},
   "outputs": [],
   "source": []
  }
 ],
 "metadata": {
  "kernelspec": {
   "display_name": "Python 3 (ipykernel)",
   "language": "python",
   "name": "python3"
  },
  "language_info": {
   "codemirror_mode": {
    "name": "ipython",
    "version": 3
   },
   "file_extension": ".py",
   "mimetype": "text/x-python",
   "name": "python",
   "nbconvert_exporter": "python",
   "pygments_lexer": "ipython3",
   "version": "3.13.2"
  }
 },
 "nbformat": 4,
 "nbformat_minor": 5
}
