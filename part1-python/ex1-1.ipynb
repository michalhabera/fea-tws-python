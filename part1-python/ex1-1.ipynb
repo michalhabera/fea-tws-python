{
 "cells": [
  {
   "cell_type": "markdown",
   "id": "8a3958d0-2a91-47b7-8f34-35763d9435ae",
   "metadata": {},
   "source": [
    "## Exercise 1-1\n",
    "\n",
    "Create a file named `my_file.py` with the following content and execute it (multiple ways: python/ipython/jupyter interpreters)\n",
    "```python\n",
    "s = \"Hello World\"\n",
    "print(s)\n",
    "```"
   ]
  },
  {
   "cell_type": "code",
   "execution_count": null,
   "id": "8fa57559-6e8c-4354-916c-a62ec88fce18",
   "metadata": {},
   "outputs": [],
   "source": []
  }
 ],
 "metadata": {
  "kernelspec": {
   "display_name": "Python 3 (ipykernel)",
   "language": "python",
   "name": "python3"
  },
  "language_info": {
   "codemirror_mode": {
    "name": "ipython",
    "version": 3
   },
   "file_extension": ".py",
   "mimetype": "text/x-python",
   "name": "python",
   "nbconvert_exporter": "python",
   "pygments_lexer": "ipython3",
   "version": "3.13.7"
  }
 },
 "nbformat": 4,
 "nbformat_minor": 5
}
