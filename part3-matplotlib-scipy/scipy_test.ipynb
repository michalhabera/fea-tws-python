{
 "cells": [
  {
   "cell_type": "code",
   "execution_count": 3,
   "id": "9056ff24-1364-40d7-bd0e-b7fcb32466ed",
   "metadata": {},
   "outputs": [],
   "source": [
    "import scipy\n",
    "import numpy as np"
   ]
  },
  {
   "cell_type": "code",
   "execution_count": 5,
   "id": "1777ae82-76e4-45f6-92f5-3dd5e6428960",
   "metadata": {},
   "outputs": [
    {
     "data": {
      "text/plain": [
       "array([[1., 0., 0., 0., 0.],\n",
       "       [0., 1., 0., 0., 0.],\n",
       "       [0., 0., 1., 0., 0.],\n",
       "       [0., 0., 0., 1., 0.],\n",
       "       [0., 0., 0., 0., 1.]])"
      ]
     },
     "execution_count": 5,
     "metadata": {},
     "output_type": "execute_result"
    }
   ],
   "source": [
    "A = np.eye(5)\n",
    "A"
   ]
  },
  {
   "cell_type": "code",
   "execution_count": 6,
   "id": "267585e2-8573-4e6c-a82f-6dd7a8b45e26",
   "metadata": {},
   "outputs": [
    {
     "data": {
      "text/plain": [
       "array([[ 1., -0., -0., -0., -0.],\n",
       "       [ 0.,  1., -0., -0., -0.],\n",
       "       [ 0.,  0.,  1., -0., -0.],\n",
       "       [ 0.,  0.,  0.,  1., -0.],\n",
       "       [ 0.,  0.,  0.,  0.,  1.]])"
      ]
     },
     "execution_count": 6,
     "metadata": {},
     "output_type": "execute_result"
    }
   ],
   "source": [
    "scipy.linalg.inv(A)"
   ]
  },
  {
   "cell_type": "code",
   "execution_count": 8,
   "id": "cd657b98-3cef-499f-9326-7f2422141375",
   "metadata": {},
   "outputs": [],
   "source": [
    "B = np.array([[1, 2],\n",
    "              [2, 3]])"
   ]
  },
  {
   "cell_type": "code",
   "execution_count": 9,
   "id": "defbf863-41fe-4ab2-961e-76a9d2cdc995",
   "metadata": {},
   "outputs": [
    {
     "data": {
      "text/plain": [
       "array([[-3.,  2.],\n",
       "       [ 2., -1.]])"
      ]
     },
     "execution_count": 9,
     "metadata": {},
     "output_type": "execute_result"
    }
   ],
   "source": [
    "scipy.linalg.inv(B)"
   ]
  },
  {
   "cell_type": "code",
   "execution_count": 10,
   "id": "3b74fb73-f39a-41b3-b18c-cbfb2298608a",
   "metadata": {},
   "outputs": [
    {
     "data": {
      "text/plain": [
       "(array([-0.23606798,  4.23606798]),\n",
       " array([[-0.85065081,  0.52573111],\n",
       "        [ 0.52573111,  0.85065081]]))"
      ]
     },
     "execution_count": 10,
     "metadata": {},
     "output_type": "execute_result"
    }
   ],
   "source": [
    "scipy.linalg.eigh(B)"
   ]
  },
  {
   "cell_type": "code",
   "execution_count": 11,
   "id": "b0996058-37d1-4857-98bb-ec8db9d9b8fb",
   "metadata": {},
   "outputs": [
    {
     "data": {
      "text/plain": [
       "array([[1, 2],\n",
       "       [2, 3]])"
      ]
     },
     "execution_count": 11,
     "metadata": {},
     "output_type": "execute_result"
    }
   ],
   "source": [
    "B.T"
   ]
  },
  {
   "cell_type": "code",
   "execution_count": 12,
   "id": "21146328-9c5c-42ac-8602-afcd77b68235",
   "metadata": {},
   "outputs": [
    {
     "data": {
      "text/plain": [
       "np.float64(-1.0)"
      ]
     },
     "execution_count": 12,
     "metadata": {},
     "output_type": "execute_result"
    }
   ],
   "source": [
    "scipy.linalg.det(B)"
   ]
  },
  {
   "cell_type": "code",
   "execution_count": 13,
   "id": "fc642c28-9e88-4f2c-a334-c95d23d514a4",
   "metadata": {},
   "outputs": [
    {
     "data": {
      "text/plain": [
       "\u001b[31mSignature:\u001b[39m\n",
       "scipy.linalg.solve(\n",
       "    a,\n",
       "    b,\n",
       "    lower=\u001b[38;5;28;01mFalse\u001b[39;00m,\n",
       "    overwrite_a=\u001b[38;5;28;01mFalse\u001b[39;00m,\n",
       "    overwrite_b=\u001b[38;5;28;01mFalse\u001b[39;00m,\n",
       "    check_finite=\u001b[38;5;28;01mTrue\u001b[39;00m,\n",
       "    assume_a=\u001b[38;5;28;01mNone\u001b[39;00m,\n",
       "    transposed=\u001b[38;5;28;01mFalse\u001b[39;00m,\n",
       ")\n",
       "\u001b[31mDocstring:\u001b[39m\n",
       "Solve the equation ``a @ x = b`` for  ``x``,\n",
       "where `a` is a square matrix.\n",
       "\n",
       "If the data matrix is known to be a particular type then supplying the\n",
       "corresponding string to ``assume_a`` key chooses the dedicated solver.\n",
       "The available options are\n",
       "\n",
       "=============================  ================================\n",
       " diagonal                       'diagonal'\n",
       " tridiagonal                    'tridiagonal'\n",
       " banded                         'banded'\n",
       " upper triangular               'upper triangular'\n",
       " lower triangular               'lower triangular'\n",
       " symmetric                      'symmetric' (or 'sym')\n",
       " hermitian                      'hermitian' (or 'her')\n",
       " symmetric positive definite    'positive definite' (or 'pos')\n",
       " general                        'general' (or 'gen')\n",
       "=============================  ================================\n",
       "\n",
       "The documentation is written assuming array arguments are of specified\n",
       "\"core\" shapes. However, array argument(s) of this function may have additional\n",
       "\"batch\" dimensions prepended to the core shape. In this case, the array is treated\n",
       "as a batch of lower-dimensional slices; see :ref:`linalg_batch` for details.\n",
       "\n",
       "Parameters\n",
       "----------\n",
       "a : (N, N) array_like\n",
       "    Square input data\n",
       "b : (N, NRHS) array_like\n",
       "    Input data for the right hand side.\n",
       "lower : bool, default: False\n",
       "    Ignored unless ``assume_a`` is one of ``'sym'``, ``'her'``, or ``'pos'``.\n",
       "    If True, the calculation uses only the data in the lower triangle of `a`;\n",
       "    entries above the diagonal are ignored. If False (default), the\n",
       "    calculation uses only the data in the upper triangle of `a`; entries\n",
       "    below the diagonal are ignored.\n",
       "overwrite_a : bool, default: False\n",
       "    Allow overwriting data in `a` (may enhance performance).\n",
       "overwrite_b : bool, default: False\n",
       "    Allow overwriting data in `b` (may enhance performance).\n",
       "check_finite : bool, default: True\n",
       "    Whether to check that the input matrices contain only finite numbers.\n",
       "    Disabling may give a performance gain, but may result in problems\n",
       "    (crashes, non-termination) if the inputs do contain infinities or NaNs.\n",
       "assume_a : str, optional\n",
       "    Valid entries are described above.\n",
       "    If omitted or ``None``, checks are performed to identify structure so the\n",
       "    appropriate solver can be called.\n",
       "transposed : bool, default: False\n",
       "    If True, solve ``a.T @ x == b``. Raises `NotImplementedError`\n",
       "    for complex `a`.\n",
       "\n",
       "Returns\n",
       "-------\n",
       "x : (N, NRHS) ndarray\n",
       "    The solution array.\n",
       "\n",
       "Raises\n",
       "------\n",
       "ValueError\n",
       "    If size mismatches detected or input a is not square.\n",
       "LinAlgError\n",
       "    If the computation fails because of matrix singularity.\n",
       "LinAlgWarning\n",
       "    If an ill-conditioned input a is detected.\n",
       "NotImplementedError\n",
       "    If transposed is True and input a is a complex matrix.\n",
       "\n",
       "Notes\n",
       "-----\n",
       "If the input b matrix is a 1-D array with N elements, when supplied\n",
       "together with an NxN input a, it is assumed as a valid column vector\n",
       "despite the apparent size mismatch. This is compatible with the\n",
       "numpy.dot() behavior and the returned result is still 1-D array.\n",
       "\n",
       "The general, symmetric, Hermitian and positive definite solutions are\n",
       "obtained via calling ?GESV, ?SYSV, ?HESV, and ?POSV routines of\n",
       "LAPACK respectively.\n",
       "\n",
       "The datatype of the arrays define which solver is called regardless\n",
       "of the values. In other words, even when the complex array entries have\n",
       "precisely zero imaginary parts, the complex solver will be called based\n",
       "on the data type of the array.\n",
       "\n",
       "Examples\n",
       "--------\n",
       "Given `a` and `b`, solve for `x`:\n",
       "\n",
       ">>> import numpy as np\n",
       ">>> a = np.array([[3, 2, 0], [1, -1, 0], [0, 5, 1]])\n",
       ">>> b = np.array([2, 4, -1])\n",
       ">>> from scipy import linalg\n",
       ">>> x = linalg.solve(a, b)\n",
       ">>> x\n",
       "array([ 2., -2.,  9.])\n",
       ">>> np.dot(a, x) == b\n",
       "array([ True,  True,  True], dtype=bool)\n",
       "\u001b[31mFile:\u001b[39m      /Library/Frameworks/Python.framework/Versions/3.13/lib/python3.13/site-packages/scipy/linalg/_basic.py\n",
       "\u001b[31mType:\u001b[39m      function"
      ]
     },
     "metadata": {},
     "output_type": "display_data"
    }
   ],
   "source": [
    "scipy.linalg.solve?"
   ]
  },
  {
   "cell_type": "code",
   "execution_count": 14,
   "id": "baa8843c-7ddf-45df-9697-a5a10add3cf1",
   "metadata": {},
   "outputs": [
    {
     "data": {
      "text/plain": [
       "array([[1., 0., 0., 0., 0.],\n",
       "       [0., 1., 0., 0., 0.],\n",
       "       [0., 0., 1., 0., 0.],\n",
       "       [0., 0., 0., 1., 0.],\n",
       "       [0., 0., 0., 0., 1.]])"
      ]
     },
     "execution_count": 14,
     "metadata": {},
     "output_type": "execute_result"
    }
   ],
   "source": [
    "A"
   ]
  },
  {
   "cell_type": "code",
   "execution_count": 15,
   "id": "d421f822-fc77-49d6-80c0-e75903aa05e5",
   "metadata": {},
   "outputs": [
    {
     "data": {
      "text/plain": [
       "array([[1, 2],\n",
       "       [2, 3]])"
      ]
     },
     "execution_count": 15,
     "metadata": {},
     "output_type": "execute_result"
    }
   ],
   "source": [
    "B"
   ]
  },
  {
   "cell_type": "code",
   "execution_count": 16,
   "id": "5985f456-7090-4011-b37b-89735220cdaa",
   "metadata": {},
   "outputs": [],
   "source": [
    "v = np.array([-1, -1])"
   ]
  },
  {
   "cell_type": "code",
   "execution_count": 18,
   "id": "f985c859-c4c7-4e65-ac8f-b036df03dc04",
   "metadata": {},
   "outputs": [
    {
     "data": {
      "text/plain": [
       "array([ 1., -1.])"
      ]
     },
     "execution_count": 18,
     "metadata": {},
     "output_type": "execute_result"
    }
   ],
   "source": [
    "scipy.linalg.solve(B, v)"
   ]
  },
  {
   "cell_type": "markdown",
   "id": "02533ede-af3d-44c2-b85f-037e22230570",
   "metadata": {},
   "source": [
    "Find a root of the following function\n",
    "$$f(x) = (x - 1)(x - 6).$$"
   ]
  },
  {
   "cell_type": "code",
   "execution_count": 37,
   "id": "bc901edc-980c-4f33-8b65-b438403e4e3a",
   "metadata": {},
   "outputs": [
    {
     "data": {
      "text/plain": [
       "      converged: True\n",
       "           flag: converged\n",
       " function_calls: 10\n",
       "     iterations: 5\n",
       "           root: 1.0\n",
       "         method: newton"
      ]
     },
     "execution_count": 37,
     "metadata": {},
     "output_type": "execute_result"
    }
   ],
   "source": [
    "def f(x):\n",
    "    return (x - 1)*(x - 6)\n",
    "\n",
    "def df(x):\n",
    "    return (x - 6) + (x - \n",
    "\n",
    "scipy.optimize.root_scalar(f, x0 = 0.0, fprime=df, method=\"newton\", bracket = (4, 10))\n",
    "# import matplotlib.pyplot as plt\n",
    "\n",
    "# xs = np.linspace(0, 10, 100)\n",
    "# plt.plot(xs, f(xs), marker=\"x\")"
   ]
  },
  {
   "cell_type": "code",
   "execution_count": null,
   "id": "f8f904f9-29e3-44ab-bb29-254496e3c555",
   "metadata": {},
   "outputs": [],
   "source": []
  }
 ],
 "metadata": {
  "kernelspec": {
   "display_name": "Python 3 (ipykernel)",
   "language": "python",
   "name": "python3"
  },
  "language_info": {
   "codemirror_mode": {
    "name": "ipython",
    "version": 3
   },
   "file_extension": ".py",
   "mimetype": "text/x-python",
   "name": "python",
   "nbconvert_exporter": "python",
   "pygments_lexer": "ipython3",
   "version": "3.13.7"
  }
 },
 "nbformat": 4,
 "nbformat_minor": 5
}
