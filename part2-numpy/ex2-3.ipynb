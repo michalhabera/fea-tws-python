{
 "cells": [
  {
   "cell_type": "markdown",
   "id": "a6c04cf8-d208-4663-b536-0df933dbde8d",
   "metadata": {},
   "source": [
    "## Exercise 2-3\n",
    "\n",
    "Create following arrays\n",
    "\n",
    "```\n",
    "[[1, 1, 1, 1],\n",
    " [1, 1, 1, 1],\n",
    " [1, 1, 1, 2],\n",
    " [1, 6, 1, 1]]\n",
    " \n",
    "[[0., 0., 0., 0., 0.],\n",
    " [2., 0., 0., 0., 0.],\n",
    " [0., 3., 0., 0., 0.],\n",
    " [0., 0., 4., 0., 0.],\n",
    " [0., 0., 0., 5., 0.],\n",
    " [0., 0., 0., 0., 6.]]\n",
    "\n",
    "```\n",
    "\n",
    "- **Hint:** Individual array elements can be accessed similarly to a list, e.g. `a[1]` or `a[1, 2]`.\n",
    "- **Hint:** Examine the docstring for `diag`."
   ]
  },
  {
   "cell_type": "code",
   "execution_count": null,
   "id": "bb68ef59-dd9b-4f14-b7dd-c3e40d653fd4",
   "metadata": {},
   "outputs": [],
   "source": []
  }
 ],
 "metadata": {
  "kernelspec": {
   "display_name": "Python 3 (ipykernel)",
   "language": "python",
   "name": "python3"
  },
  "language_info": {
   "codemirror_mode": {
    "name": "ipython",
    "version": 3
   },
   "file_extension": ".py",
   "mimetype": "text/x-python",
   "name": "python",
   "nbconvert_exporter": "python",
   "pygments_lexer": "ipython3",
   "version": "3.13.7"
  }
 },
 "nbformat": 4,
 "nbformat_minor": 5
}
