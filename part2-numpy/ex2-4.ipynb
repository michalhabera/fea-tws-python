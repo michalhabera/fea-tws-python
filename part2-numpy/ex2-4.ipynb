{
 "cells": [
  {
   "cell_type": "markdown",
   "id": "a6c04cf8-d208-4663-b536-0df933dbde8d",
   "metadata": {},
   "source": [
    "## Exercise 2-4\n",
    "\n",
    "Divide each column of the array `a` elementwise with the array `b` (hint: `np.newaxis`)."
   ]
  },
  {
   "cell_type": "code",
   "execution_count": 1,
   "id": "bb68ef59-dd9b-4f14-b7dd-c3e40d653fd4",
   "metadata": {},
   "outputs": [],
   "source": [
    "import numpy as np\n",
    "a = np.arange(25).reshape(5, 5)\n",
    "b = np.array([1., 5, 10, 15, 20])"
   ]
  },
  {
   "cell_type": "code",
   "execution_count": null,
   "id": "4c54618e-23cf-4dd1-9061-8172b8735703",
   "metadata": {},
   "outputs": [],
   "source": []
  }
 ],
 "metadata": {
  "kernelspec": {
   "display_name": "Python 3 (ipykernel)",
   "language": "python",
   "name": "python3"
  },
  "language_info": {
   "codemirror_mode": {
    "name": "ipython",
    "version": 3
   },
   "file_extension": ".py",
   "mimetype": "text/x-python",
   "name": "python",
   "nbconvert_exporter": "python",
   "pygments_lexer": "ipython3",
   "version": "3.13.2"
  }
 },
 "nbformat": 4,
 "nbformat_minor": 5
}
