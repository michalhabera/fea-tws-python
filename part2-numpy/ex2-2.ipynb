{
 "cells": [
  {
   "cell_type": "markdown",
   "id": "a6c04cf8-d208-4663-b536-0df933dbde8d",
   "metadata": {},
   "source": [
    "## Exercise 2-2\n",
    "\n",
    "Try the different flavours of slicing, using start, end and step: starting from a `linspace`, try\n",
    "to obtain odd numbers counting backwards, and even numbers counting forwards.\n",
    "\n",
    "Try to obtain the slices as shown below\n",
    "\n",
    "![img](mat_slices.png)"
   ]
  },
  {
   "cell_type": "code",
   "execution_count": 1,
   "id": "bb68ef59-dd9b-4f14-b7dd-c3e40d653fd4",
   "metadata": {},
   "outputs": [
    {
     "data": {
      "text/plain": [
       "array([[ 0,  1,  2,  3,  4,  5],\n",
       "       [10, 11, 12, 13, 14, 15],\n",
       "       [20, 21, 22, 23, 24, 25],\n",
       "       [30, 31, 32, 33, 34, 35],\n",
       "       [40, 41, 42, 43, 44, 45],\n",
       "       [50, 51, 52, 53, 54, 55]])"
      ]
     },
     "execution_count": 1,
     "metadata": {},
     "output_type": "execute_result"
    }
   ],
   "source": [
    "import numpy as np\n",
    "a = np.arange(6) + np.arange(0, 51, 10)[:, np.newaxis]\n",
    "a"
   ]
  }
 ],
 "metadata": {
  "kernelspec": {
   "display_name": "Python 3 (ipykernel)",
   "language": "python",
   "name": "python3"
  },
  "language_info": {
   "codemirror_mode": {
    "name": "ipython",
    "version": 3
   },
   "file_extension": ".py",
   "mimetype": "text/x-python",
   "name": "python",
   "nbconvert_exporter": "python",
   "pygments_lexer": "ipython3",
   "version": "3.13.2"
  }
 },
 "nbformat": 4,
 "nbformat_minor": 5
}
