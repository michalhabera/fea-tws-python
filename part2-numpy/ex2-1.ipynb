{
 "cells": [
  {
   "cell_type": "markdown",
   "id": "a6c04cf8-d208-4663-b536-0df933dbde8d",
   "metadata": {},
   "source": [
    "## Exercise 2-1\n",
    "\n",
    "- create arrays using `arange, linspace, ones, zeros, eye` and `diag`,\n",
    "- create various arrays of random numbers,\n",
    "- set the seed before polling random numbes,\n",
    "- look at `empty`, what does it do? When is it useful?"
   ]
  },
  {
   "cell_type": "code",
   "execution_count": null,
   "id": "bb68ef59-dd9b-4f14-b7dd-c3e40d653fd4",
   "metadata": {},
   "outputs": [],
   "source": []
  }
 ],
 "metadata": {
  "kernelspec": {
   "display_name": "Python 3 (ipykernel)",
   "language": "python",
   "name": "python3"
  },
  "language_info": {
   "codemirror_mode": {
    "name": "ipython",
    "version": 3
   },
   "file_extension": ".py",
   "mimetype": "text/x-python",
   "name": "python",
   "nbconvert_exporter": "python",
   "pygments_lexer": "ipython3",
   "version": "3.13.7"
  }
 },
 "nbformat": 4,
 "nbformat_minor": 5
}
