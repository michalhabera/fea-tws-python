{
 "cells": [
  {
   "cell_type": "markdown",
   "id": "ca1d5c07-9436-4a0e-a75a-fdd4374a4ba7",
   "metadata": {},
   "source": [
    "# Our first Python code snippets\n",
    "## Basic Python\n",
    "\n",
    "Let's start. We can do LaTeX too, see\n",
    "\n",
    "$$a^2 + b^2 = c^2$$"
   ]
  },
  {
   "cell_type": "code",
   "execution_count": 3,
   "id": "40814a92-454d-4001-b808-5ea271b26929",
   "metadata": {},
   "outputs": [],
   "source": [
    "a = 2\n",
    "b = 2*a"
   ]
  },
  {
   "cell_type": "code",
   "execution_count": 4,
   "id": "eca647e3-9b75-49cd-9f68-eec4c0acde72",
   "metadata": {},
   "outputs": [
    {
     "data": {
      "text/plain": [
       "int"
      ]
     },
     "execution_count": 4,
     "metadata": {},
     "output_type": "execute_result"
    }
   ],
   "source": [
    "type(b)"
   ]
  },
  {
   "cell_type": "code",
   "execution_count": 5,
   "id": "e80c5af3-fb65-41ce-9abf-4b6dd486e306",
   "metadata": {},
   "outputs": [],
   "source": [
    "c = 4.0"
   ]
  },
  {
   "cell_type": "code",
   "execution_count": 6,
   "id": "773c7729-b21e-4346-a1bd-83ca6ddd091d",
   "metadata": {},
   "outputs": [
    {
     "data": {
      "text/plain": [
       "float"
      ]
     },
     "execution_count": 6,
     "metadata": {},
     "output_type": "execute_result"
    }
   ],
   "source": [
    "type(c)"
   ]
  },
  {
   "cell_type": "code",
   "execution_count": 7,
   "id": "53400d63-54f4-4a7a-8ba0-fa562ae1e29d",
   "metadata": {},
   "outputs": [],
   "source": [
    "d = 1 + 3j"
   ]
  },
  {
   "cell_type": "code",
   "execution_count": 8,
   "id": "8a61ae0c-1cba-4505-bd63-1feda215aff5",
   "metadata": {},
   "outputs": [
    {
     "data": {
      "text/plain": [
       "complex"
      ]
     },
     "execution_count": 8,
     "metadata": {},
     "output_type": "execute_result"
    }
   ],
   "source": [
    "type(d)"
   ]
  },
  {
   "cell_type": "code",
   "execution_count": 9,
   "id": "4d3f0e91-1a18-44f0-9acd-7fa4d94be4b3",
   "metadata": {},
   "outputs": [
    {
     "data": {
      "text/plain": [
       "False"
      ]
     },
     "execution_count": 9,
     "metadata": {},
     "output_type": "execute_result"
    }
   ],
   "source": [
    "a > b"
   ]
  },
  {
   "cell_type": "code",
   "execution_count": 10,
   "id": "d12a76ef-01ef-4e0c-95d3-efa4742b3d68",
   "metadata": {},
   "outputs": [
    {
     "name": "stdout",
     "output_type": "stream",
     "text": [
      "False\n"
     ]
    }
   ],
   "source": [
    "is_larger = a > b\n",
    "print(is_larger)"
   ]
  },
  {
   "cell_type": "code",
   "execution_count": 11,
   "id": "dd5d7a4c-a10b-4f55-9a85-9afdab145b0f",
   "metadata": {},
   "outputs": [],
   "source": [
    "my_list = [a, b, is_larger]"
   ]
  },
  {
   "cell_type": "code",
   "execution_count": 12,
   "id": "78da2316-ef80-46ba-a147-e7e56b16a3b4",
   "metadata": {},
   "outputs": [
    {
     "name": "stdout",
     "output_type": "stream",
     "text": [
      "[2, 4, False]\n"
     ]
    }
   ],
   "source": [
    "print(my_list)"
   ]
  },
  {
   "cell_type": "code",
   "execution_count": 13,
   "id": "fcad2b09-569a-43d3-9c90-8d587290eb64",
   "metadata": {},
   "outputs": [
    {
     "data": {
      "text/plain": [
       "2"
      ]
     },
     "execution_count": 13,
     "metadata": {},
     "output_type": "execute_result"
    }
   ],
   "source": [
    "my_list[0]"
   ]
  },
  {
   "cell_type": "code",
   "execution_count": 14,
   "id": "fbf6a6ff-7a7f-4e98-ac9e-1b75750378e6",
   "metadata": {},
   "outputs": [
    {
     "data": {
      "text/plain": [
       "False"
      ]
     },
     "execution_count": 14,
     "metadata": {},
     "output_type": "execute_result"
    }
   ],
   "source": [
    "my_list[-1]"
   ]
  },
  {
   "cell_type": "code",
   "execution_count": 15,
   "id": "fe7275b0-9c73-4bfc-a38f-4fd28e6bbe15",
   "metadata": {},
   "outputs": [
    {
     "data": {
      "text/plain": [
       "[2, 4, False]"
      ]
     },
     "execution_count": 15,
     "metadata": {},
     "output_type": "execute_result"
    }
   ],
   "source": [
    "my_list[:]"
   ]
  },
  {
   "cell_type": "code",
   "execution_count": 16,
   "id": "70ed4b09-29ae-44f0-b458-df76dedf07e1",
   "metadata": {},
   "outputs": [
    {
     "name": "stdout",
     "output_type": "stream",
     "text": [
      "[42, 4, False]\n"
     ]
    }
   ],
   "source": [
    "my_list[0] = 42\n",
    "print(my_list)"
   ]
  },
  {
   "cell_type": "code",
   "execution_count": 17,
   "id": "798e8b97-4273-4a6a-ae75-71979d2f3e41",
   "metadata": {},
   "outputs": [
    {
     "data": {
      "text/plain": [
       "'Hello World from notebook, again'"
      ]
     },
     "execution_count": 17,
     "metadata": {},
     "output_type": "execute_result"
    }
   ],
   "source": [
    "s"
   ]
  },
  {
   "cell_type": "code",
   "execution_count": 18,
   "id": "5c7c98f9-4f74-4921-911e-1730e3748489",
   "metadata": {},
   "outputs": [
    {
     "data": {
      "text/plain": [
       "str"
      ]
     },
     "execution_count": 18,
     "metadata": {},
     "output_type": "execute_result"
    }
   ],
   "source": [
    "type(s)"
   ]
  },
  {
   "cell_type": "code",
   "execution_count": 19,
   "id": "98daf6f4-4c90-4d29-abf5-ec37c0a678b4",
   "metadata": {},
   "outputs": [
    {
     "data": {
      "text/plain": [
       "'Hello World from notebook, again. New sentence.'"
      ]
     },
     "execution_count": 19,
     "metadata": {},
     "output_type": "execute_result"
    }
   ],
   "source": [
    "s + \". New sentence.\""
   ]
  },
  {
   "cell_type": "code",
   "execution_count": 20,
   "id": "18ed696e-4d65-4c6d-a00f-65edd26b9f26",
   "metadata": {},
   "outputs": [
    {
     "data": {
      "text/plain": [
       "'H'"
      ]
     },
     "execution_count": 20,
     "metadata": {},
     "output_type": "execute_result"
    }
   ],
   "source": [
    "s[0]"
   ]
  },
  {
   "cell_type": "code",
   "execution_count": 23,
   "id": "78873cd3-2769-4b97-b7ad-654919337e27",
   "metadata": {},
   "outputs": [
    {
     "data": {
      "text/plain": [
       "'HlWl'"
      ]
     },
     "execution_count": 23,
     "metadata": {},
     "output_type": "execute_result"
    }
   ],
   "source": [
    "start = 0\n",
    "end = 10\n",
    "step = 3\n",
    "s[start:end:step]"
   ]
  },
  {
   "cell_type": "code",
   "execution_count": 26,
   "id": "649f8e30-bb64-4dc1-ae0b-d0afedf0c8e6",
   "metadata": {},
   "outputs": [
    {
     "data": {
      "text/plain": [
       "'Result of the computation is: [42, 4, False]'"
      ]
     },
     "execution_count": 26,
     "metadata": {},
     "output_type": "execute_result"
    }
   ],
   "source": [
    "f\"Result of the computation is: {my_list}\""
   ]
  },
  {
   "cell_type": "code",
   "execution_count": 27,
   "id": "3b47b52b-a9dc-44fa-853c-357f7f882d5a",
   "metadata": {},
   "outputs": [
    {
     "name": "stdout",
     "output_type": "stream",
     "text": [
      "Result of the computation is: [42, 4, False]\n"
     ]
    }
   ],
   "source": [
    "print(f\"Result of the computation is: {my_list}\")"
   ]
  },
  {
   "cell_type": "code",
   "execution_count": 28,
   "id": "4c1e42ed-f26c-4884-9f29-5b4db7b97fdd",
   "metadata": {},
   "outputs": [
    {
     "data": {
      "text/plain": [
       "50.0"
      ]
     },
     "execution_count": 28,
     "metadata": {},
     "output_type": "execute_result"
    }
   ],
   "source": [
    "f = 100\n",
    "f\n",
    "g = f / 2\n",
    "g"
   ]
  },
  {
   "cell_type": "code",
   "execution_count": 29,
   "id": "ea8246c4-df1f-474e-a664-881139fa871d",
   "metadata": {},
   "outputs": [],
   "source": [
    "my_dict = {\"a\": 1, \"g\": True}"
   ]
  },
  {
   "cell_type": "code",
   "execution_count": 30,
   "id": "99e60593-db58-4074-aeea-10a914234c6d",
   "metadata": {},
   "outputs": [
    {
     "name": "stdout",
     "output_type": "stream",
     "text": [
      "{'a': 1, 'g': True}\n"
     ]
    }
   ],
   "source": [
    "print(my_dict)"
   ]
  },
  {
   "cell_type": "code",
   "execution_count": 31,
   "id": "8c367ebd-ef98-42d4-9c60-28063cfe4c6e",
   "metadata": {},
   "outputs": [
    {
     "data": {
      "text/plain": [
       "1"
      ]
     },
     "execution_count": 31,
     "metadata": {},
     "output_type": "execute_result"
    }
   ],
   "source": [
    "my_dict[\"a\"]"
   ]
  },
  {
   "cell_type": "code",
   "execution_count": null,
   "id": "e9509816-df25-4051-a8ae-2696ec301d60",
   "metadata": {},
   "outputs": [],
   "source": [
    "my_kind_of_dict = [[\"a\", 1], [\"g\", True]]"
   ]
  },
  {
   "cell_type": "code",
   "execution_count": 32,
   "id": "f05e4e26-e3ee-45e8-9025-e6117a12ae33",
   "metadata": {},
   "outputs": [],
   "source": [
    "my_dict[\"a\"] = 1"
   ]
  },
  {
   "cell_type": "code",
   "execution_count": 33,
   "id": "21e0c69d-6804-48c8-9223-eb3cf8dd22a1",
   "metadata": {},
   "outputs": [
    {
     "data": {
      "text/plain": [
       "{'a': 2, 'g': True}"
      ]
     },
     "execution_count": 33,
     "metadata": {},
     "output_type": "execute_result"
    }
   ],
   "source": [
    "my_dict[\"a\"] = 2\n",
    "my_dict"
   ]
  },
  {
   "cell_type": "code",
   "execution_count": 34,
   "id": "11f620a1-18e1-4600-a0ba-29fa22d6eb9f",
   "metadata": {},
   "outputs": [
    {
     "data": {
      "text/plain": [
       "(5, 6, 2.0)"
      ]
     },
     "execution_count": 34,
     "metadata": {},
     "output_type": "execute_result"
    }
   ],
   "source": [
    "my_tuple = (5, 6, 2.0)\n",
    "my_tuple"
   ]
  },
  {
   "cell_type": "code",
   "execution_count": 35,
   "id": "aa122f2c-b8da-41ff-abde-f7592f0328ce",
   "metadata": {},
   "outputs": [
    {
     "data": {
      "text/plain": [
       "5"
      ]
     },
     "execution_count": 35,
     "metadata": {},
     "output_type": "execute_result"
    }
   ],
   "source": [
    "my_tuple[0]"
   ]
  },
  {
   "cell_type": "code",
   "execution_count": 36,
   "id": "cdcd52db-0869-46fc-8773-3d7db57a45cf",
   "metadata": {},
   "outputs": [
    {
     "ename": "TypeError",
     "evalue": "'tuple' object does not support item assignment",
     "output_type": "error",
     "traceback": [
      "\u001b[31m---------------------------------------------------------------------------\u001b[39m",
      "\u001b[31mTypeError\u001b[39m                                 Traceback (most recent call last)",
      "\u001b[36mCell\u001b[39m\u001b[36m \u001b[39m\u001b[32mIn[36]\u001b[39m\u001b[32m, line 1\u001b[39m\n\u001b[32m----> \u001b[39m\u001b[32m1\u001b[39m \u001b[43mmy_tuple\u001b[49m\u001b[43m[\u001b[49m\u001b[32;43m0\u001b[39;49m\u001b[43m]\u001b[49m = \u001b[32m20\u001b[39m\n",
      "\u001b[31mTypeError\u001b[39m: 'tuple' object does not support item assignment"
     ]
    }
   ],
   "source": [
    "my_tuple[0] = 20"
   ]
  },
  {
   "cell_type": "code",
   "execution_count": 43,
   "id": "bf7271f3-72fd-492c-9cbe-fe461c3f08d9",
   "metadata": {},
   "outputs": [
    {
     "data": {
      "text/plain": [
       "([1, 2], 1)"
      ]
     },
     "execution_count": 43,
     "metadata": {},
     "output_type": "execute_result"
    }
   ],
   "source": [
    "my_tuple2 = ([1, 2], 1)\n",
    "my_tuple2"
   ]
  },
  {
   "cell_type": "code",
   "execution_count": 44,
   "id": "c53156a0-596e-4e3a-ad06-7206f410460a",
   "metadata": {},
   "outputs": [],
   "source": [
    "my_tuple2[0][0] = 999"
   ]
  },
  {
   "cell_type": "code",
   "execution_count": 45,
   "id": "de860e2e-9d17-4e48-8851-1f94ebc98b2c",
   "metadata": {},
   "outputs": [
    {
     "data": {
      "text/plain": [
       "([999, 2], 1)"
      ]
     },
     "execution_count": 45,
     "metadata": {},
     "output_type": "execute_result"
    }
   ],
   "source": [
    "my_tuple2"
   ]
  },
  {
   "cell_type": "code",
   "execution_count": 46,
   "id": "ec3ba8c9-570b-4298-9f0d-4fd1e88776c9",
   "metadata": {},
   "outputs": [],
   "source": [
    "a = [1, 2, 3]"
   ]
  },
  {
   "cell_type": "code",
   "execution_count": 47,
   "id": "eb4f8ec9-63d1-4ed9-8fd4-427e7f5f4adc",
   "metadata": {},
   "outputs": [],
   "source": [
    "b = a"
   ]
  },
  {
   "cell_type": "code",
   "execution_count": 48,
   "id": "e8f47bd7-a640-4ec6-8530-35a607f70f13",
   "metadata": {},
   "outputs": [
    {
     "data": {
      "text/plain": [
       "[1, 2, 3]"
      ]
     },
     "execution_count": 48,
     "metadata": {},
     "output_type": "execute_result"
    }
   ],
   "source": [
    "b"
   ]
  },
  {
   "cell_type": "code",
   "execution_count": 49,
   "id": "55361327-ca34-4436-9914-28c0ab6951b9",
   "metadata": {},
   "outputs": [
    {
     "data": {
      "text/plain": [
       "['', 2, 3]"
      ]
     },
     "execution_count": 49,
     "metadata": {},
     "output_type": "execute_result"
    }
   ],
   "source": [
    "a[0] = \"\"\n",
    "b"
   ]
  },
  {
   "cell_type": "code",
   "execution_count": 1,
   "id": "5f70db87-a52b-42a5-8f2d-fb16cc93716e",
   "metadata": {},
   "outputs": [
    {
     "name": "stdout",
     "output_type": "stream",
     "text": [
      "Math works.\n"
     ]
    }
   ],
   "source": [
    "if 2*2 == 4:\n",
    "    print(\"Math works.\")\n",
    "else:\n",
    "    print(\"Something is off.\")"
   ]
  },
  {
   "cell_type": "code",
   "execution_count": 54,
   "id": "8a1a8ea0-b42b-4368-a607-54f1b1a4bcce",
   "metadata": {},
   "outputs": [
    {
     "name": "stdout",
     "output_type": "stream",
     "text": [
      "1\n",
      "after continue\n",
      "2\n",
      "3\n"
     ]
    }
   ],
   "source": [
    "for a in [1, 2, 3]:\n",
    "    print(a)\n",
    "    if a > 1:\n",
    "        continue\n",
    "    print(\"after continue\")"
   ]
  },
  {
   "cell_type": "code",
   "execution_count": 55,
   "id": "c454faca-3012-4522-a2cd-ce6b5b409821",
   "metadata": {},
   "outputs": [
    {
     "data": {
      "text/plain": [
       "False"
      ]
     },
     "execution_count": 55,
     "metadata": {},
     "output_type": "execute_result"
    }
   ],
   "source": [
    "a == b"
   ]
  },
  {
   "cell_type": "code",
   "execution_count": 56,
   "id": "da9e21c1-5ab2-46c5-a4f7-5607ded75e64",
   "metadata": {},
   "outputs": [
    {
     "data": {
      "text/plain": [
       "False"
      ]
     },
     "execution_count": 56,
     "metadata": {},
     "output_type": "execute_result"
    }
   ],
   "source": [
    "a is b"
   ]
  },
  {
   "cell_type": "code",
   "execution_count": 60,
   "id": "26bf1e24-83cc-4a48-8961-c0234ff4da93",
   "metadata": {},
   "outputs": [],
   "source": [
    "a = [10]\n",
    "b = [10]"
   ]
  },
  {
   "cell_type": "code",
   "execution_count": 61,
   "id": "a527a39a-65b7-43d7-b2c1-720074538575",
   "metadata": {},
   "outputs": [
    {
     "data": {
      "text/plain": [
       "True"
      ]
     },
     "execution_count": 61,
     "metadata": {},
     "output_type": "execute_result"
    }
   ],
   "source": [
    "a == b"
   ]
  },
  {
   "cell_type": "code",
   "execution_count": 62,
   "id": "334b5578-837e-4183-b198-22d84612e147",
   "metadata": {},
   "outputs": [
    {
     "data": {
      "text/plain": [
       "False"
      ]
     },
     "execution_count": 62,
     "metadata": {},
     "output_type": "execute_result"
    }
   ],
   "source": [
    "a is b"
   ]
  },
  {
   "cell_type": "code",
   "execution_count": 63,
   "id": "0f23b03c-c31d-41af-a9d2-f7a69d874cf6",
   "metadata": {},
   "outputs": [
    {
     "data": {
      "text/plain": [
       "4485813504"
      ]
     },
     "execution_count": 63,
     "metadata": {},
     "output_type": "execute_result"
    }
   ],
   "source": [
    "id(a)"
   ]
  },
  {
   "cell_type": "code",
   "execution_count": 64,
   "id": "40c7db4e-d041-4993-9140-01086341510c",
   "metadata": {},
   "outputs": [
    {
     "data": {
      "text/plain": [
       "4472764736"
      ]
     },
     "execution_count": 64,
     "metadata": {},
     "output_type": "execute_result"
    }
   ],
   "source": [
    "id(b)"
   ]
  },
  {
   "cell_type": "code",
   "execution_count": null,
   "id": "e490339f-11e3-49fd-961d-f16d4556b638",
   "metadata": {},
   "outputs": [],
   "source": []
  }
 ],
 "metadata": {
  "kernelspec": {
   "display_name": "Python 3 (ipykernel)",
   "language": "python",
   "name": "python3"
  },
  "language_info": {
   "codemirror_mode": {
    "name": "ipython",
    "version": 3
   },
   "file_extension": ".py",
   "mimetype": "text/x-python",
   "name": "python",
   "nbconvert_exporter": "python",
   "pygments_lexer": "ipython3",
   "version": "3.13.7"
  }
 },
 "nbformat": 4,
 "nbformat_minor": 5
}
