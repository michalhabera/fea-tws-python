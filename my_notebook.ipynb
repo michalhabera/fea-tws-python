{
 "cells": [
  {
   "cell_type": "markdown",
   "id": "ca1d5c07-9436-4a0e-a75a-fdd4374a4ba7",
   "metadata": {},
   "source": [
    "# Our first Python code snippets\n",
    "## Basic Python\n",
    "\n",
    "Let's start. We can do LaTeX too, see\n",
    "\n",
    "$$a^2 + b^2 = c^2$$"
   ]
  },
  {
   "cell_type": "code",
   "execution_count": 3,
   "id": "40814a92-454d-4001-b808-5ea271b26929",
   "metadata": {},
   "outputs": [],
   "source": [
    "a = 2\n",
    "b = 2*a"
   ]
  },
  {
   "cell_type": "code",
   "execution_count": 4,
   "id": "eca647e3-9b75-49cd-9f68-eec4c0acde72",
   "metadata": {},
   "outputs": [
    {
     "data": {
      "text/plain": [
       "int"
      ]
     },
     "execution_count": 4,
     "metadata": {},
     "output_type": "execute_result"
    }
   ],
   "source": [
    "type(b)"
   ]
  },
  {
   "cell_type": "code",
   "execution_count": 5,
   "id": "e80c5af3-fb65-41ce-9abf-4b6dd486e306",
   "metadata": {},
   "outputs": [],
   "source": [
    "c = 4.0"
   ]
  },
  {
   "cell_type": "code",
   "execution_count": 6,
   "id": "773c7729-b21e-4346-a1bd-83ca6ddd091d",
   "metadata": {},
   "outputs": [
    {
     "data": {
      "text/plain": [
       "float"
      ]
     },
     "execution_count": 6,
     "metadata": {},
     "output_type": "execute_result"
    }
   ],
   "source": [
    "type(c)"
   ]
  },
  {
   "cell_type": "code",
   "execution_count": 7,
   "id": "53400d63-54f4-4a7a-8ba0-fa562ae1e29d",
   "metadata": {},
   "outputs": [],
   "source": [
    "d = 1 + 3j"
   ]
  },
  {
   "cell_type": "code",
   "execution_count": 8,
   "id": "8a61ae0c-1cba-4505-bd63-1feda215aff5",
   "metadata": {},
   "outputs": [
    {
     "data": {
      "text/plain": [
       "complex"
      ]
     },
     "execution_count": 8,
     "metadata": {},
     "output_type": "execute_result"
    }
   ],
   "source": [
    "type(d)"
   ]
  },
  {
   "cell_type": "code",
   "execution_count": 9,
   "id": "4d3f0e91-1a18-44f0-9acd-7fa4d94be4b3",
   "metadata": {},
   "outputs": [
    {
     "data": {
      "text/plain": [
       "False"
      ]
     },
     "execution_count": 9,
     "metadata": {},
     "output_type": "execute_result"
    }
   ],
   "source": [
    "a > b"
   ]
  },
  {
   "cell_type": "code",
   "execution_count": 10,
   "id": "d12a76ef-01ef-4e0c-95d3-efa4742b3d68",
   "metadata": {},
   "outputs": [
    {
     "name": "stdout",
     "output_type": "stream",
     "text": [
      "False\n"
     ]
    }
   ],
   "source": [
    "is_larger = a > b\n",
    "print(is_larger)"
   ]
  },
  {
   "cell_type": "code",
   "execution_count": 11,
   "id": "dd5d7a4c-a10b-4f55-9a85-9afdab145b0f",
   "metadata": {},
   "outputs": [],
   "source": [
    "my_list = [a, b, is_larger]"
   ]
  },
  {
   "cell_type": "code",
   "execution_count": 12,
   "id": "78da2316-ef80-46ba-a147-e7e56b16a3b4",
   "metadata": {},
   "outputs": [
    {
     "name": "stdout",
     "output_type": "stream",
     "text": [
      "[2, 4, False]\n"
     ]
    }
   ],
   "source": [
    "print(my_list)"
   ]
  },
  {
   "cell_type": "code",
   "execution_count": 13,
   "id": "fcad2b09-569a-43d3-9c90-8d587290eb64",
   "metadata": {},
   "outputs": [
    {
     "data": {
      "text/plain": [
       "2"
      ]
     },
     "execution_count": 13,
     "metadata": {},
     "output_type": "execute_result"
    }
   ],
   "source": [
    "my_list[0]"
   ]
  },
  {
   "cell_type": "code",
   "execution_count": 14,
   "id": "fbf6a6ff-7a7f-4e98-ac9e-1b75750378e6",
   "metadata": {},
   "outputs": [
    {
     "data": {
      "text/plain": [
       "False"
      ]
     },
     "execution_count": 14,
     "metadata": {},
     "output_type": "execute_result"
    }
   ],
   "source": [
    "my_list[-1]"
   ]
  },
  {
   "cell_type": "code",
   "execution_count": 15,
   "id": "fe7275b0-9c73-4bfc-a38f-4fd28e6bbe15",
   "metadata": {},
   "outputs": [
    {
     "data": {
      "text/plain": [
       "[2, 4, False]"
      ]
     },
     "execution_count": 15,
     "metadata": {},
     "output_type": "execute_result"
    }
   ],
   "source": [
    "my_list[:]"
   ]
  },
  {
   "cell_type": "code",
   "execution_count": 16,
   "id": "70ed4b09-29ae-44f0-b458-df76dedf07e1",
   "metadata": {},
   "outputs": [
    {
     "name": "stdout",
     "output_type": "stream",
     "text": [
      "[42, 4, False]\n"
     ]
    }
   ],
   "source": [
    "my_list[0] = 42\n",
    "print(my_list)"
   ]
  },
  {
   "cell_type": "code",
   "execution_count": 17,
   "id": "798e8b97-4273-4a6a-ae75-71979d2f3e41",
   "metadata": {},
   "outputs": [
    {
     "data": {
      "text/plain": [
       "'Hello World from notebook, again'"
      ]
     },
     "execution_count": 17,
     "metadata": {},
     "output_type": "execute_result"
    }
   ],
   "source": [
    "s"
   ]
  },
  {
   "cell_type": "code",
   "execution_count": 18,
   "id": "5c7c98f9-4f74-4921-911e-1730e3748489",
   "metadata": {},
   "outputs": [
    {
     "data": {
      "text/plain": [
       "str"
      ]
     },
     "execution_count": 18,
     "metadata": {},
     "output_type": "execute_result"
    }
   ],
   "source": [
    "type(s)"
   ]
  },
  {
   "cell_type": "code",
   "execution_count": 19,
   "id": "98daf6f4-4c90-4d29-abf5-ec37c0a678b4",
   "metadata": {},
   "outputs": [
    {
     "data": {
      "text/plain": [
       "'Hello World from notebook, again. New sentence.'"
      ]
     },
     "execution_count": 19,
     "metadata": {},
     "output_type": "execute_result"
    }
   ],
   "source": [
    "s + \". New sentence.\""
   ]
  },
  {
   "cell_type": "code",
   "execution_count": 20,
   "id": "18ed696e-4d65-4c6d-a00f-65edd26b9f26",
   "metadata": {},
   "outputs": [
    {
     "data": {
      "text/plain": [
       "'H'"
      ]
     },
     "execution_count": 20,
     "metadata": {},
     "output_type": "execute_result"
    }
   ],
   "source": [
    "s[0]"
   ]
  },
  {
   "cell_type": "code",
   "execution_count": 23,
   "id": "78873cd3-2769-4b97-b7ad-654919337e27",
   "metadata": {},
   "outputs": [
    {
     "data": {
      "text/plain": [
       "'HlWl'"
      ]
     },
     "execution_count": 23,
     "metadata": {},
     "output_type": "execute_result"
    }
   ],
   "source": [
    "start = 0\n",
    "end = 10\n",
    "step = 3\n",
    "s[start:end:step]"
   ]
  },
  {
   "cell_type": "code",
   "execution_count": 26,
   "id": "649f8e30-bb64-4dc1-ae0b-d0afedf0c8e6",
   "metadata": {},
   "outputs": [
    {
     "data": {
      "text/plain": [
       "'Result of the computation is: [42, 4, False]'"
      ]
     },
     "execution_count": 26,
     "metadata": {},
     "output_type": "execute_result"
    }
   ],
   "source": [
    "f\"Result of the computation is: {my_list}\""
   ]
  },
  {
   "cell_type": "code",
   "execution_count": 27,
   "id": "3b47b52b-a9dc-44fa-853c-357f7f882d5a",
   "metadata": {},
   "outputs": [
    {
     "name": "stdout",
     "output_type": "stream",
     "text": [
      "Result of the computation is: [42, 4, False]\n"
     ]
    }
   ],
   "source": [
    "print(f\"Result of the computation is: {my_list}\")"
   ]
  },
  {
   "cell_type": "code",
   "execution_count": 28,
   "id": "4c1e42ed-f26c-4884-9f29-5b4db7b97fdd",
   "metadata": {},
   "outputs": [
    {
     "data": {
      "text/plain": [
       "50.0"
      ]
     },
     "execution_count": 28,
     "metadata": {},
     "output_type": "execute_result"
    }
   ],
   "source": [
    "f = 100\n",
    "f\n",
    "g = f / 2\n",
    "g"
   ]
  },
  {
   "cell_type": "code",
   "execution_count": 29,
   "id": "ea8246c4-df1f-474e-a664-881139fa871d",
   "metadata": {},
   "outputs": [],
   "source": [
    "my_dict = {\"a\": 1, \"g\": True}"
   ]
  },
  {
   "cell_type": "code",
   "execution_count": 30,
   "id": "99e60593-db58-4074-aeea-10a914234c6d",
   "metadata": {},
   "outputs": [
    {
     "name": "stdout",
     "output_type": "stream",
     "text": [
      "{'a': 1, 'g': True}\n"
     ]
    }
   ],
   "source": [
    "print(my_dict)"
   ]
  },
  {
   "cell_type": "code",
   "execution_count": 31,
   "id": "8c367ebd-ef98-42d4-9c60-28063cfe4c6e",
   "metadata": {},
   "outputs": [
    {
     "data": {
      "text/plain": [
       "1"
      ]
     },
     "execution_count": 31,
     "metadata": {},
     "output_type": "execute_result"
    }
   ],
   "source": [
    "my_dict[\"a\"]"
   ]
  },
  {
   "cell_type": "code",
   "execution_count": null,
   "id": "e9509816-df25-4051-a8ae-2696ec301d60",
   "metadata": {},
   "outputs": [],
   "source": [
    "my_kind_of_dict = [[\"a\", 1], [\"g\", True]]"
   ]
  },
  {
   "cell_type": "code",
   "execution_count": 32,
   "id": "f05e4e26-e3ee-45e8-9025-e6117a12ae33",
   "metadata": {},
   "outputs": [],
   "source": [
    "my_dict[\"a\"] = 1"
   ]
  },
  {
   "cell_type": "code",
   "execution_count": 33,
   "id": "21e0c69d-6804-48c8-9223-eb3cf8dd22a1",
   "metadata": {},
   "outputs": [
    {
     "data": {
      "text/plain": [
       "{'a': 2, 'g': True}"
      ]
     },
     "execution_count": 33,
     "metadata": {},
     "output_type": "execute_result"
    }
   ],
   "source": [
    "my_dict[\"a\"] = 2\n",
    "my_dict"
   ]
  },
  {
   "cell_type": "code",
   "execution_count": 34,
   "id": "11f620a1-18e1-4600-a0ba-29fa22d6eb9f",
   "metadata": {},
   "outputs": [
    {
     "data": {
      "text/plain": [
       "(5, 6, 2.0)"
      ]
     },
     "execution_count": 34,
     "metadata": {},
     "output_type": "execute_result"
    }
   ],
   "source": [
    "my_tuple = (5, 6, 2.0)\n",
    "my_tuple"
   ]
  },
  {
   "cell_type": "code",
   "execution_count": 35,
   "id": "aa122f2c-b8da-41ff-abde-f7592f0328ce",
   "metadata": {},
   "outputs": [
    {
     "data": {
      "text/plain": [
       "5"
      ]
     },
     "execution_count": 35,
     "metadata": {},
     "output_type": "execute_result"
    }
   ],
   "source": [
    "my_tuple[0]"
   ]
  },
  {
   "cell_type": "code",
   "execution_count": 36,
   "id": "cdcd52db-0869-46fc-8773-3d7db57a45cf",
   "metadata": {},
   "outputs": [
    {
     "ename": "TypeError",
     "evalue": "'tuple' object does not support item assignment",
     "output_type": "error",
     "traceback": [
      "\u001b[31m---------------------------------------------------------------------------\u001b[39m",
      "\u001b[31mTypeError\u001b[39m                                 Traceback (most recent call last)",
      "\u001b[36mCell\u001b[39m\u001b[36m \u001b[39m\u001b[32mIn[36]\u001b[39m\u001b[32m, line 1\u001b[39m\n\u001b[32m----> \u001b[39m\u001b[32m1\u001b[39m \u001b[43mmy_tuple\u001b[49m\u001b[43m[\u001b[49m\u001b[32;43m0\u001b[39;49m\u001b[43m]\u001b[49m = \u001b[32m20\u001b[39m\n",
      "\u001b[31mTypeError\u001b[39m: 'tuple' object does not support item assignment"
     ]
    }
   ],
   "source": [
    "my_tuple[0] = 20"
   ]
  },
  {
   "cell_type": "code",
   "execution_count": 43,
   "id": "bf7271f3-72fd-492c-9cbe-fe461c3f08d9",
   "metadata": {},
   "outputs": [
    {
     "data": {
      "text/plain": [
       "([1, 2], 1)"
      ]
     },
     "execution_count": 43,
     "metadata": {},
     "output_type": "execute_result"
    }
   ],
   "source": [
    "my_tuple2 = ([1, 2], 1)\n",
    "my_tuple2"
   ]
  },
  {
   "cell_type": "code",
   "execution_count": 44,
   "id": "c53156a0-596e-4e3a-ad06-7206f410460a",
   "metadata": {},
   "outputs": [],
   "source": [
    "my_tuple2[0][0] = 999"
   ]
  },
  {
   "cell_type": "code",
   "execution_count": 45,
   "id": "de860e2e-9d17-4e48-8851-1f94ebc98b2c",
   "metadata": {},
   "outputs": [
    {
     "data": {
      "text/plain": [
       "([999, 2], 1)"
      ]
     },
     "execution_count": 45,
     "metadata": {},
     "output_type": "execute_result"
    }
   ],
   "source": [
    "my_tuple2"
   ]
  },
  {
   "cell_type": "code",
   "execution_count": 46,
   "id": "ec3ba8c9-570b-4298-9f0d-4fd1e88776c9",
   "metadata": {},
   "outputs": [],
   "source": [
    "a = [1, 2, 3]"
   ]
  },
  {
   "cell_type": "code",
   "execution_count": 47,
   "id": "eb4f8ec9-63d1-4ed9-8fd4-427e7f5f4adc",
   "metadata": {},
   "outputs": [],
   "source": [
    "b = a"
   ]
  },
  {
   "cell_type": "code",
   "execution_count": 48,
   "id": "e8f47bd7-a640-4ec6-8530-35a607f70f13",
   "metadata": {},
   "outputs": [
    {
     "data": {
      "text/plain": [
       "[1, 2, 3]"
      ]
     },
     "execution_count": 48,
     "metadata": {},
     "output_type": "execute_result"
    }
   ],
   "source": [
    "b"
   ]
  },
  {
   "cell_type": "code",
   "execution_count": 49,
   "id": "55361327-ca34-4436-9914-28c0ab6951b9",
   "metadata": {},
   "outputs": [
    {
     "data": {
      "text/plain": [
       "['', 2, 3]"
      ]
     },
     "execution_count": 49,
     "metadata": {},
     "output_type": "execute_result"
    }
   ],
   "source": [
    "a[0] = \"\"\n",
    "b"
   ]
  },
  {
   "cell_type": "code",
   "execution_count": 1,
   "id": "5f70db87-a52b-42a5-8f2d-fb16cc93716e",
   "metadata": {},
   "outputs": [
    {
     "name": "stdout",
     "output_type": "stream",
     "text": [
      "Math works.\n"
     ]
    }
   ],
   "source": [
    "if 2*2 == 4:\n",
    "    print(\"Math works.\")\n",
    "else:\n",
    "    print(\"Something is off.\")"
   ]
  },
  {
   "cell_type": "code",
   "execution_count": 54,
   "id": "8a1a8ea0-b42b-4368-a607-54f1b1a4bcce",
   "metadata": {},
   "outputs": [
    {
     "name": "stdout",
     "output_type": "stream",
     "text": [
      "1\n",
      "after continue\n",
      "2\n",
      "3\n"
     ]
    }
   ],
   "source": [
    "for a in [1, 2, 3]:\n",
    "    print(a)\n",
    "    if a > 1:\n",
    "        continue\n",
    "    print(\"after continue\")"
   ]
  },
  {
   "cell_type": "code",
   "execution_count": 55,
   "id": "c454faca-3012-4522-a2cd-ce6b5b409821",
   "metadata": {},
   "outputs": [
    {
     "data": {
      "text/plain": [
       "False"
      ]
     },
     "execution_count": 55,
     "metadata": {},
     "output_type": "execute_result"
    }
   ],
   "source": [
    "a == b"
   ]
  },
  {
   "cell_type": "code",
   "execution_count": 56,
   "id": "da9e21c1-5ab2-46c5-a4f7-5607ded75e64",
   "metadata": {},
   "outputs": [
    {
     "data": {
      "text/plain": [
       "False"
      ]
     },
     "execution_count": 56,
     "metadata": {},
     "output_type": "execute_result"
    }
   ],
   "source": [
    "a is b"
   ]
  },
  {
   "cell_type": "code",
   "execution_count": 60,
   "id": "26bf1e24-83cc-4a48-8961-c0234ff4da93",
   "metadata": {},
   "outputs": [],
   "source": [
    "a = [10]\n",
    "b = [10]"
   ]
  },
  {
   "cell_type": "code",
   "execution_count": 61,
   "id": "a527a39a-65b7-43d7-b2c1-720074538575",
   "metadata": {},
   "outputs": [
    {
     "data": {
      "text/plain": [
       "True"
      ]
     },
     "execution_count": 61,
     "metadata": {},
     "output_type": "execute_result"
    }
   ],
   "source": [
    "a == b"
   ]
  },
  {
   "cell_type": "code",
   "execution_count": 62,
   "id": "334b5578-837e-4183-b198-22d84612e147",
   "metadata": {},
   "outputs": [
    {
     "data": {
      "text/plain": [
       "False"
      ]
     },
     "execution_count": 62,
     "metadata": {},
     "output_type": "execute_result"
    }
   ],
   "source": [
    "a is b"
   ]
  },
  {
   "cell_type": "code",
   "execution_count": 63,
   "id": "0f23b03c-c31d-41af-a9d2-f7a69d874cf6",
   "metadata": {},
   "outputs": [
    {
     "data": {
      "text/plain": [
       "4485813504"
      ]
     },
     "execution_count": 63,
     "metadata": {},
     "output_type": "execute_result"
    }
   ],
   "source": [
    "id(a)"
   ]
  },
  {
   "cell_type": "code",
   "execution_count": 64,
   "id": "40c7db4e-d041-4993-9140-01086341510c",
   "metadata": {},
   "outputs": [
    {
     "data": {
      "text/plain": [
       "4472764736"
      ]
     },
     "execution_count": 64,
     "metadata": {},
     "output_type": "execute_result"
    }
   ],
   "source": [
    "id(b)"
   ]
  },
  {
   "cell_type": "code",
   "execution_count": 4,
   "id": "e490339f-11e3-49fd-961d-f16d4556b638",
   "metadata": {},
   "outputs": [],
   "source": [
    "import os"
   ]
  },
  {
   "cell_type": "code",
   "execution_count": 2,
   "id": "2ab6dbc8-3bc1-4542-925c-fed74e6a31eb",
   "metadata": {},
   "outputs": [
    {
     "data": {
      "text/plain": [
       "\u001b[31mSignature:\u001b[39m os.getcwd()\n",
       "\u001b[31mDocstring:\u001b[39m Return a unicode string representing the current working directory.\n",
       "\u001b[31mType:\u001b[39m      builtin_function_or_method"
      ]
     },
     "metadata": {},
     "output_type": "display_data"
    }
   ],
   "source": [
    "os.getcwd?"
   ]
  },
  {
   "cell_type": "code",
   "execution_count": 3,
   "id": "d1fd8d41-c023-4aa5-8cf1-7ddf1a395bb2",
   "metadata": {},
   "outputs": [
    {
     "name": "stdout",
     "output_type": "stream",
     "text": [
      "Help on built-in function getcwd in module posix:\n",
      "\n",
      "getcwd()\n",
      "    Return a unicode string representing the current working directory.\n",
      "\n"
     ]
    }
   ],
   "source": [
    "help(os.getcwd)"
   ]
  },
  {
   "cell_type": "code",
   "execution_count": 5,
   "id": "6c1a99a9-2eec-46db-88cb-9b43eeeb8a41",
   "metadata": {},
   "outputs": [
    {
     "data": {
      "text/plain": [
       "'/Users/michalhabera/UNILU/fea-tws-python'"
      ]
     },
     "execution_count": 5,
     "metadata": {},
     "output_type": "execute_result"
    }
   ],
   "source": [
    "os.getcwd()"
   ]
  },
  {
   "cell_type": "code",
   "execution_count": 6,
   "id": "b4b0e9b8-cc9b-40d1-be9a-b61c61c397ca",
   "metadata": {},
   "outputs": [],
   "source": [
    "import sys"
   ]
  },
  {
   "cell_type": "code",
   "execution_count": 7,
   "id": "265aab43-3675-41ae-95b7-46015adfcff8",
   "metadata": {},
   "outputs": [
    {
     "data": {
      "text/plain": [
       "'3.13.7 (v3.13.7:bcee1c32211, Aug 14 2025, 19:10:51) [Clang 16.0.0 (clang-1600.0.26.6)]'"
      ]
     },
     "execution_count": 7,
     "metadata": {},
     "output_type": "execute_result"
    }
   ],
   "source": [
    "sys.version"
   ]
  },
  {
   "cell_type": "code",
   "execution_count": 8,
   "id": "fb103a7a-9fce-48b3-89df-9737fd2cf187",
   "metadata": {},
   "outputs": [
    {
     "data": {
      "text/plain": [
       "'darwin'"
      ]
     },
     "execution_count": 8,
     "metadata": {},
     "output_type": "execute_result"
    }
   ],
   "source": [
    "sys.platform"
   ]
  },
  {
   "cell_type": "code",
   "execution_count": 11,
   "id": "c66a1f92-bd66-4979-a59c-07be161b7f71",
   "metadata": {},
   "outputs": [
    {
     "ename": "TypeError",
     "evalue": "func() takes 0 positional arguments but 1 was given",
     "output_type": "error",
     "traceback": [
      "\u001b[31m---------------------------------------------------------------------------\u001b[39m",
      "\u001b[31mTypeError\u001b[39m                                 Traceback (most recent call last)",
      "\u001b[36mCell\u001b[39m\u001b[36m \u001b[39m\u001b[32mIn[11]\u001b[39m\u001b[32m, line 3\u001b[39m\n\u001b[32m      1\u001b[39m \u001b[38;5;28;01mdef\u001b[39;00m\u001b[38;5;250m \u001b[39m\u001b[34mfunc\u001b[39m():\n\u001b[32m      2\u001b[39m     \u001b[38;5;28mprint\u001b[39m(\u001b[33m\"\u001b[39m\u001b[33mrunning\u001b[39m\u001b[33m\"\u001b[39m)\n\u001b[32m----> \u001b[39m\u001b[32m3\u001b[39m \u001b[43mfunc\u001b[49m\u001b[43m(\u001b[49m\u001b[32;43m2\u001b[39;49m\u001b[43m)\u001b[49m\n",
      "\u001b[31mTypeError\u001b[39m: func() takes 0 positional arguments but 1 was given"
     ]
    }
   ],
   "source": [
    "def func():\n",
    "    print(\"running\")\n",
    "func(2)"
   ]
  },
  {
   "cell_type": "code",
   "execution_count": 12,
   "id": "b6726b27-3351-4fa4-8843-e3354ce3e739",
   "metadata": {},
   "outputs": [
    {
     "name": "stdout",
     "output_type": "stream",
     "text": [
      "running\n"
     ]
    }
   ],
   "source": [
    "try:\n",
    "    func(2)\n",
    "except TypeError:\n",
    "    func()"
   ]
  },
  {
   "cell_type": "code",
   "execution_count": 13,
   "id": "38238183-481b-4a11-acbe-968e8e1b5b3e",
   "metadata": {},
   "outputs": [
    {
     "ename": "ZeroDivisionError",
     "evalue": "division by zero",
     "output_type": "error",
     "traceback": [
      "\u001b[31m---------------------------------------------------------------------------\u001b[39m",
      "\u001b[31mZeroDivisionError\u001b[39m                         Traceback (most recent call last)",
      "\u001b[36mCell\u001b[39m\u001b[36m \u001b[39m\u001b[32mIn[13]\u001b[39m\u001b[32m, line 1\u001b[39m\n\u001b[32m----> \u001b[39m\u001b[32m1\u001b[39m \u001b[32;43m1\u001b[39;49m\u001b[43m/\u001b[49m\u001b[32;43m0\u001b[39;49m\n",
      "\u001b[31mZeroDivisionError\u001b[39m: division by zero"
     ]
    }
   ],
   "source": [
    "1/0"
   ]
  },
  {
   "cell_type": "code",
   "execution_count": null,
   "id": "0c8d3c8f-4176-403b-b1b0-fa2c233a64de",
   "metadata": {},
   "outputs": [],
   "source": [
    "def append_one_to_list(my_list):\n",
    "    my_list.append(1)"
   ]
  },
  {
   "cell_type": "markdown",
   "id": "5fd278e8-1a4e-4709-bcb9-454f7c1fb7c7",
   "metadata": {},
   "source": [
    "## Python Part 2 (18.09.2025)"
   ]
  },
  {
   "cell_type": "code",
   "execution_count": 9,
   "id": "d42faff9-00fb-42c1-840a-387b8afd640a",
   "metadata": {},
   "outputs": [],
   "source": [
    "def wallis_pi(N=10, debug=False):\n",
    "    pi = 2.0\n",
    "    for n in range(1, N+1):\n",
    "        pi = pi*(4*n**2 / (4*n**2 - 1))\n",
    "        if debug is True:\n",
    "            print(f\"Computed: {pi}\")\n",
    "    return pi"
   ]
  },
  {
   "cell_type": "code",
   "execution_count": 10,
   "id": "493ebe92-fd96-4c1c-97e8-fe7abe34f9d7",
   "metadata": {},
   "outputs": [
    {
     "data": {
      "text/plain": [
       "3.0677038066434985"
      ]
     },
     "execution_count": 10,
     "metadata": {},
     "output_type": "execute_result"
    }
   ],
   "source": [
    "wallis_pi(10, False)"
   ]
  },
  {
   "cell_type": "code",
   "execution_count": 11,
   "id": "4bc4f01e-7933-4022-8d44-459183e8d545",
   "metadata": {},
   "outputs": [
    {
     "name": "stdout",
     "output_type": "stream",
     "text": [
      "Computed: 2.6666666666666665\n",
      "Computed: 2.844444444444444\n",
      "Computed: 2.9257142857142853\n",
      "Computed: 2.972154195011337\n",
      "Computed: 3.0021759545569062\n",
      "Computed: 3.0231701920013605\n",
      "Computed: 3.038673628883419\n",
      "Computed: 3.0505899960555105\n",
      "Computed: 3.06003454712689\n",
      "Computed: 3.0677038066434985\n"
     ]
    },
    {
     "data": {
      "text/plain": [
       "3.0677038066434985"
      ]
     },
     "execution_count": 11,
     "metadata": {},
     "output_type": "execute_result"
    }
   ],
   "source": [
    "wallis_pi(10, True)"
   ]
  },
  {
   "cell_type": "code",
   "execution_count": 12,
   "id": "bc0a946f-9536-441f-8302-716c7d9a8f6e",
   "metadata": {},
   "outputs": [
    {
     "name": "stdout",
     "output_type": "stream",
     "text": [
      "Computed: 2.6666666666666665\n",
      "Computed: 2.844444444444444\n",
      "Computed: 2.9257142857142853\n",
      "Computed: 2.972154195011337\n",
      "Computed: 3.0021759545569062\n"
     ]
    },
    {
     "data": {
      "text/plain": [
       "3.0021759545569062"
      ]
     },
     "execution_count": 12,
     "metadata": {},
     "output_type": "execute_result"
    }
   ],
   "source": [
    "wallis_pi(debug=True, N=5)"
   ]
  },
  {
   "cell_type": "code",
   "execution_count": 20,
   "id": "53bc9c80-bc72-4d71-bd27-4ff6750856bf",
   "metadata": {},
   "outputs": [],
   "source": [
    "def append_one_to_list(my_list=[1, 2]):\n",
    "    my_list.append(1)\n",
    "    print(f\"my_list after append: {my_list}\")"
   ]
  },
  {
   "cell_type": "code",
   "execution_count": 21,
   "id": "cd34d9ed-3975-482d-8f22-b1c447469fed",
   "metadata": {},
   "outputs": [
    {
     "name": "stdout",
     "output_type": "stream",
     "text": [
      "my_list after append: [0, 0, 12, 1]\n"
     ]
    }
   ],
   "source": [
    "ll = [0, 0, 12]\n",
    "append_one_to_list(ll)"
   ]
  },
  {
   "cell_type": "code",
   "execution_count": 22,
   "id": "9b7c7a9b-1b35-41c8-b24b-098388f7c285",
   "metadata": {},
   "outputs": [
    {
     "name": "stdout",
     "output_type": "stream",
     "text": [
      "[0, 0, 12, 1]\n"
     ]
    }
   ],
   "source": [
    "print(ll)"
   ]
  },
  {
   "cell_type": "code",
   "execution_count": 24,
   "id": "4ac339c0-808a-4ac9-900b-cf9fbc5d7a6d",
   "metadata": {},
   "outputs": [
    {
     "name": "stdout",
     "output_type": "stream",
     "text": [
      "my_list after append: [1, 2, 1, 1]\n"
     ]
    }
   ],
   "source": [
    "append_one_to_list()"
   ]
  },
  {
   "cell_type": "code",
   "execution_count": 25,
   "id": "072e8912-1c13-48d9-b538-de7014b16a54",
   "metadata": {},
   "outputs": [],
   "source": [
    "N = [\"test\"]\n",
    "def my_func():\n",
    "    N.append(\"string\")"
   ]
  },
  {
   "cell_type": "code",
   "execution_count": 26,
   "id": "c9ba326b-9acd-40cf-9045-52b29496ae07",
   "metadata": {},
   "outputs": [],
   "source": [
    "my_func()"
   ]
  },
  {
   "cell_type": "code",
   "execution_count": 27,
   "id": "0e9f574c-f59d-474e-afcb-b7d04c206eeb",
   "metadata": {},
   "outputs": [
    {
     "data": {
      "text/plain": [
       "['test', 'string']"
      ]
     },
     "execution_count": 27,
     "metadata": {},
     "output_type": "execute_result"
    }
   ],
   "source": [
    "N"
   ]
  },
  {
   "cell_type": "code",
   "execution_count": 28,
   "id": "eeda387a-d458-41a8-9ed6-3e549cbfcda9",
   "metadata": {},
   "outputs": [
    {
     "data": {
      "text/plain": [
       "<function __main__.my_func()>"
      ]
     },
     "execution_count": 28,
     "metadata": {},
     "output_type": "execute_result"
    }
   ],
   "source": [
    "my_func"
   ]
  },
  {
   "cell_type": "code",
   "execution_count": 29,
   "id": "92a4b8e0-0c68-4246-9043-f015f376c07a",
   "metadata": {},
   "outputs": [],
   "source": [
    "list_functions = [my_func]"
   ]
  },
  {
   "cell_type": "code",
   "execution_count": 30,
   "id": "049094bb-fe1c-4d3b-b8ef-5c017d7ea947",
   "metadata": {},
   "outputs": [
    {
     "data": {
      "text/plain": [
       "[<function __main__.my_func()>]"
      ]
     },
     "execution_count": 30,
     "metadata": {},
     "output_type": "execute_result"
    }
   ],
   "source": [
    "list_functions"
   ]
  },
  {
   "cell_type": "code",
   "execution_count": null,
   "id": "a794ec4a-aadf-4c59-b7be-401ed67f6ece",
   "metadata": {},
   "outputs": [],
   "source": []
  }
 ],
 "metadata": {
  "kernelspec": {
   "display_name": "Python 3 (ipykernel)",
   "language": "python",
   "name": "python3"
  },
  "language_info": {
   "codemirror_mode": {
    "name": "ipython",
    "version": 3
   },
   "file_extension": ".py",
   "mimetype": "text/x-python",
   "name": "python",
   "nbconvert_exporter": "python",
   "pygments_lexer": "ipython3",
   "version": "3.13.7"
  }
 },
 "nbformat": 4,
 "nbformat_minor": 5
}
